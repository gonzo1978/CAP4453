{
  "nbformat": 4,
  "nbformat_minor": 0,
  "metadata": {
    "colab": {
      "name": "pytorch_tutorial.ipynb",
      "provenance": [],
      "include_colab_link": true
    },
    "kernelspec": {
      "name": "python3",
      "display_name": "Python 3"
    },
    "language_info": {
      "name": "python"
    },
    "widgets": {
      "application/vnd.jupyter.widget-state+json": {
        "a053d5d1f8004a61a0ed450733806914": {
          "model_module": "@jupyter-widgets/controls",
          "model_name": "HBoxModel",
          "model_module_version": "1.5.0",
          "state": {
            "_view_name": "HBoxView",
            "_dom_classes": [],
            "_model_name": "HBoxModel",
            "_view_module": "@jupyter-widgets/controls",
            "_model_module_version": "1.5.0",
            "_view_count": null,
            "_view_module_version": "1.5.0",
            "box_style": "",
            "layout": "IPY_MODEL_e9b324b71e0d43708b0455469184e80e",
            "_model_module": "@jupyter-widgets/controls",
            "children": [
              "IPY_MODEL_3daffff4ff8f496dac2f8c881635a1b1",
              "IPY_MODEL_9e19d6a200ee4868a7304bd0ece8d69f",
              "IPY_MODEL_f5d8278b0e694e92987fde4d8726ea75"
            ]
          }
        },
        "e9b324b71e0d43708b0455469184e80e": {
          "model_module": "@jupyter-widgets/base",
          "model_name": "LayoutModel",
          "model_module_version": "1.2.0",
          "state": {
            "_view_name": "LayoutView",
            "grid_template_rows": null,
            "right": null,
            "justify_content": null,
            "_view_module": "@jupyter-widgets/base",
            "overflow": null,
            "_model_module_version": "1.2.0",
            "_view_count": null,
            "flex_flow": null,
            "width": null,
            "min_width": null,
            "border": null,
            "align_items": null,
            "bottom": null,
            "_model_module": "@jupyter-widgets/base",
            "top": null,
            "grid_column": null,
            "overflow_y": null,
            "overflow_x": null,
            "grid_auto_flow": null,
            "grid_area": null,
            "grid_template_columns": null,
            "flex": null,
            "_model_name": "LayoutModel",
            "justify_items": null,
            "grid_row": null,
            "max_height": null,
            "align_content": null,
            "visibility": null,
            "align_self": null,
            "height": null,
            "min_height": null,
            "padding": null,
            "grid_auto_rows": null,
            "grid_gap": null,
            "max_width": null,
            "order": null,
            "_view_module_version": "1.2.0",
            "grid_template_areas": null,
            "object_position": null,
            "object_fit": null,
            "grid_auto_columns": null,
            "margin": null,
            "display": null,
            "left": null
          }
        },
        "3daffff4ff8f496dac2f8c881635a1b1": {
          "model_module": "@jupyter-widgets/controls",
          "model_name": "HTMLModel",
          "model_module_version": "1.5.0",
          "state": {
            "_view_name": "HTMLView",
            "style": "IPY_MODEL_6dbe0935a290416ba40e195adf9cc9c5",
            "_dom_classes": [],
            "description": "",
            "_model_name": "HTMLModel",
            "placeholder": "​",
            "_view_module": "@jupyter-widgets/controls",
            "_model_module_version": "1.5.0",
            "value": "",
            "_view_count": null,
            "_view_module_version": "1.5.0",
            "description_tooltip": null,
            "_model_module": "@jupyter-widgets/controls",
            "layout": "IPY_MODEL_bf3f499924e04d39ba99728defe0a15b"
          }
        },
        "9e19d6a200ee4868a7304bd0ece8d69f": {
          "model_module": "@jupyter-widgets/controls",
          "model_name": "FloatProgressModel",
          "model_module_version": "1.5.0",
          "state": {
            "_view_name": "ProgressView",
            "style": "IPY_MODEL_3d3c304e2c63428dbf1423b277b49e71",
            "_dom_classes": [],
            "description": "",
            "_model_name": "FloatProgressModel",
            "bar_style": "success",
            "max": 9912422,
            "_view_module": "@jupyter-widgets/controls",
            "_model_module_version": "1.5.0",
            "value": 9912422,
            "_view_count": null,
            "_view_module_version": "1.5.0",
            "orientation": "horizontal",
            "min": 0,
            "description_tooltip": null,
            "_model_module": "@jupyter-widgets/controls",
            "layout": "IPY_MODEL_0bb56b5f3e7648b9a190628a5c1980f9"
          }
        },
        "f5d8278b0e694e92987fde4d8726ea75": {
          "model_module": "@jupyter-widgets/controls",
          "model_name": "HTMLModel",
          "model_module_version": "1.5.0",
          "state": {
            "_view_name": "HTMLView",
            "style": "IPY_MODEL_d9ce63b1574e4af68baebc6563540b7a",
            "_dom_classes": [],
            "description": "",
            "_model_name": "HTMLModel",
            "placeholder": "​",
            "_view_module": "@jupyter-widgets/controls",
            "_model_module_version": "1.5.0",
            "value": " 9913344/? [00:00&lt;00:00, 20023494.97it/s]",
            "_view_count": null,
            "_view_module_version": "1.5.0",
            "description_tooltip": null,
            "_model_module": "@jupyter-widgets/controls",
            "layout": "IPY_MODEL_e13884bdf5db4422b37c07ed770e5f61"
          }
        },
        "6dbe0935a290416ba40e195adf9cc9c5": {
          "model_module": "@jupyter-widgets/controls",
          "model_name": "DescriptionStyleModel",
          "model_module_version": "1.5.0",
          "state": {
            "_view_name": "StyleView",
            "_model_name": "DescriptionStyleModel",
            "description_width": "",
            "_view_module": "@jupyter-widgets/base",
            "_model_module_version": "1.5.0",
            "_view_count": null,
            "_view_module_version": "1.2.0",
            "_model_module": "@jupyter-widgets/controls"
          }
        },
        "bf3f499924e04d39ba99728defe0a15b": {
          "model_module": "@jupyter-widgets/base",
          "model_name": "LayoutModel",
          "model_module_version": "1.2.0",
          "state": {
            "_view_name": "LayoutView",
            "grid_template_rows": null,
            "right": null,
            "justify_content": null,
            "_view_module": "@jupyter-widgets/base",
            "overflow": null,
            "_model_module_version": "1.2.0",
            "_view_count": null,
            "flex_flow": null,
            "width": null,
            "min_width": null,
            "border": null,
            "align_items": null,
            "bottom": null,
            "_model_module": "@jupyter-widgets/base",
            "top": null,
            "grid_column": null,
            "overflow_y": null,
            "overflow_x": null,
            "grid_auto_flow": null,
            "grid_area": null,
            "grid_template_columns": null,
            "flex": null,
            "_model_name": "LayoutModel",
            "justify_items": null,
            "grid_row": null,
            "max_height": null,
            "align_content": null,
            "visibility": null,
            "align_self": null,
            "height": null,
            "min_height": null,
            "padding": null,
            "grid_auto_rows": null,
            "grid_gap": null,
            "max_width": null,
            "order": null,
            "_view_module_version": "1.2.0",
            "grid_template_areas": null,
            "object_position": null,
            "object_fit": null,
            "grid_auto_columns": null,
            "margin": null,
            "display": null,
            "left": null
          }
        },
        "3d3c304e2c63428dbf1423b277b49e71": {
          "model_module": "@jupyter-widgets/controls",
          "model_name": "ProgressStyleModel",
          "model_module_version": "1.5.0",
          "state": {
            "_view_name": "StyleView",
            "_model_name": "ProgressStyleModel",
            "description_width": "",
            "_view_module": "@jupyter-widgets/base",
            "_model_module_version": "1.5.0",
            "_view_count": null,
            "_view_module_version": "1.2.0",
            "bar_color": null,
            "_model_module": "@jupyter-widgets/controls"
          }
        },
        "0bb56b5f3e7648b9a190628a5c1980f9": {
          "model_module": "@jupyter-widgets/base",
          "model_name": "LayoutModel",
          "model_module_version": "1.2.0",
          "state": {
            "_view_name": "LayoutView",
            "grid_template_rows": null,
            "right": null,
            "justify_content": null,
            "_view_module": "@jupyter-widgets/base",
            "overflow": null,
            "_model_module_version": "1.2.0",
            "_view_count": null,
            "flex_flow": null,
            "width": null,
            "min_width": null,
            "border": null,
            "align_items": null,
            "bottom": null,
            "_model_module": "@jupyter-widgets/base",
            "top": null,
            "grid_column": null,
            "overflow_y": null,
            "overflow_x": null,
            "grid_auto_flow": null,
            "grid_area": null,
            "grid_template_columns": null,
            "flex": null,
            "_model_name": "LayoutModel",
            "justify_items": null,
            "grid_row": null,
            "max_height": null,
            "align_content": null,
            "visibility": null,
            "align_self": null,
            "height": null,
            "min_height": null,
            "padding": null,
            "grid_auto_rows": null,
            "grid_gap": null,
            "max_width": null,
            "order": null,
            "_view_module_version": "1.2.0",
            "grid_template_areas": null,
            "object_position": null,
            "object_fit": null,
            "grid_auto_columns": null,
            "margin": null,
            "display": null,
            "left": null
          }
        },
        "d9ce63b1574e4af68baebc6563540b7a": {
          "model_module": "@jupyter-widgets/controls",
          "model_name": "DescriptionStyleModel",
          "model_module_version": "1.5.0",
          "state": {
            "_view_name": "StyleView",
            "_model_name": "DescriptionStyleModel",
            "description_width": "",
            "_view_module": "@jupyter-widgets/base",
            "_model_module_version": "1.5.0",
            "_view_count": null,
            "_view_module_version": "1.2.0",
            "_model_module": "@jupyter-widgets/controls"
          }
        },
        "e13884bdf5db4422b37c07ed770e5f61": {
          "model_module": "@jupyter-widgets/base",
          "model_name": "LayoutModel",
          "model_module_version": "1.2.0",
          "state": {
            "_view_name": "LayoutView",
            "grid_template_rows": null,
            "right": null,
            "justify_content": null,
            "_view_module": "@jupyter-widgets/base",
            "overflow": null,
            "_model_module_version": "1.2.0",
            "_view_count": null,
            "flex_flow": null,
            "width": null,
            "min_width": null,
            "border": null,
            "align_items": null,
            "bottom": null,
            "_model_module": "@jupyter-widgets/base",
            "top": null,
            "grid_column": null,
            "overflow_y": null,
            "overflow_x": null,
            "grid_auto_flow": null,
            "grid_area": null,
            "grid_template_columns": null,
            "flex": null,
            "_model_name": "LayoutModel",
            "justify_items": null,
            "grid_row": null,
            "max_height": null,
            "align_content": null,
            "visibility": null,
            "align_self": null,
            "height": null,
            "min_height": null,
            "padding": null,
            "grid_auto_rows": null,
            "grid_gap": null,
            "max_width": null,
            "order": null,
            "_view_module_version": "1.2.0",
            "grid_template_areas": null,
            "object_position": null,
            "object_fit": null,
            "grid_auto_columns": null,
            "margin": null,
            "display": null,
            "left": null
          }
        },
        "53545690ee514cd7a1870f2cf95da80f": {
          "model_module": "@jupyter-widgets/controls",
          "model_name": "HBoxModel",
          "model_module_version": "1.5.0",
          "state": {
            "_view_name": "HBoxView",
            "_dom_classes": [],
            "_model_name": "HBoxModel",
            "_view_module": "@jupyter-widgets/controls",
            "_model_module_version": "1.5.0",
            "_view_count": null,
            "_view_module_version": "1.5.0",
            "box_style": "",
            "layout": "IPY_MODEL_191d5d22e78f41518ddd29269857640c",
            "_model_module": "@jupyter-widgets/controls",
            "children": [
              "IPY_MODEL_14d783411ea34a3f9c60b1ebf539ec0a",
              "IPY_MODEL_22e92c472cf4427b8a38edbf18d3861e",
              "IPY_MODEL_c937b641efc34c089dd3db1d93d1a4b6"
            ]
          }
        },
        "191d5d22e78f41518ddd29269857640c": {
          "model_module": "@jupyter-widgets/base",
          "model_name": "LayoutModel",
          "model_module_version": "1.2.0",
          "state": {
            "_view_name": "LayoutView",
            "grid_template_rows": null,
            "right": null,
            "justify_content": null,
            "_view_module": "@jupyter-widgets/base",
            "overflow": null,
            "_model_module_version": "1.2.0",
            "_view_count": null,
            "flex_flow": null,
            "width": null,
            "min_width": null,
            "border": null,
            "align_items": null,
            "bottom": null,
            "_model_module": "@jupyter-widgets/base",
            "top": null,
            "grid_column": null,
            "overflow_y": null,
            "overflow_x": null,
            "grid_auto_flow": null,
            "grid_area": null,
            "grid_template_columns": null,
            "flex": null,
            "_model_name": "LayoutModel",
            "justify_items": null,
            "grid_row": null,
            "max_height": null,
            "align_content": null,
            "visibility": null,
            "align_self": null,
            "height": null,
            "min_height": null,
            "padding": null,
            "grid_auto_rows": null,
            "grid_gap": null,
            "max_width": null,
            "order": null,
            "_view_module_version": "1.2.0",
            "grid_template_areas": null,
            "object_position": null,
            "object_fit": null,
            "grid_auto_columns": null,
            "margin": null,
            "display": null,
            "left": null
          }
        },
        "14d783411ea34a3f9c60b1ebf539ec0a": {
          "model_module": "@jupyter-widgets/controls",
          "model_name": "HTMLModel",
          "model_module_version": "1.5.0",
          "state": {
            "_view_name": "HTMLView",
            "style": "IPY_MODEL_cef81bfe4c714bb6ab9965eef45a1a6c",
            "_dom_classes": [],
            "description": "",
            "_model_name": "HTMLModel",
            "placeholder": "​",
            "_view_module": "@jupyter-widgets/controls",
            "_model_module_version": "1.5.0",
            "value": "",
            "_view_count": null,
            "_view_module_version": "1.5.0",
            "description_tooltip": null,
            "_model_module": "@jupyter-widgets/controls",
            "layout": "IPY_MODEL_bb5efc36b54e40c2a1b75097ca638bc4"
          }
        },
        "22e92c472cf4427b8a38edbf18d3861e": {
          "model_module": "@jupyter-widgets/controls",
          "model_name": "FloatProgressModel",
          "model_module_version": "1.5.0",
          "state": {
            "_view_name": "ProgressView",
            "style": "IPY_MODEL_9f26462af6794b78bb25148d330bd757",
            "_dom_classes": [],
            "description": "",
            "_model_name": "FloatProgressModel",
            "bar_style": "success",
            "max": 28881,
            "_view_module": "@jupyter-widgets/controls",
            "_model_module_version": "1.5.0",
            "value": 28881,
            "_view_count": null,
            "_view_module_version": "1.5.0",
            "orientation": "horizontal",
            "min": 0,
            "description_tooltip": null,
            "_model_module": "@jupyter-widgets/controls",
            "layout": "IPY_MODEL_9c81d143b9d94a6481a86547a4c081bc"
          }
        },
        "c937b641efc34c089dd3db1d93d1a4b6": {
          "model_module": "@jupyter-widgets/controls",
          "model_name": "HTMLModel",
          "model_module_version": "1.5.0",
          "state": {
            "_view_name": "HTMLView",
            "style": "IPY_MODEL_076a2b37073346c090e7da92be9e23a4",
            "_dom_classes": [],
            "description": "",
            "_model_name": "HTMLModel",
            "placeholder": "​",
            "_view_module": "@jupyter-widgets/controls",
            "_model_module_version": "1.5.0",
            "value": " 29696/? [00:00&lt;00:00, 532293.65it/s]",
            "_view_count": null,
            "_view_module_version": "1.5.0",
            "description_tooltip": null,
            "_model_module": "@jupyter-widgets/controls",
            "layout": "IPY_MODEL_f9fbfbfa10f84effa92e4530ca2feae3"
          }
        },
        "cef81bfe4c714bb6ab9965eef45a1a6c": {
          "model_module": "@jupyter-widgets/controls",
          "model_name": "DescriptionStyleModel",
          "model_module_version": "1.5.0",
          "state": {
            "_view_name": "StyleView",
            "_model_name": "DescriptionStyleModel",
            "description_width": "",
            "_view_module": "@jupyter-widgets/base",
            "_model_module_version": "1.5.0",
            "_view_count": null,
            "_view_module_version": "1.2.0",
            "_model_module": "@jupyter-widgets/controls"
          }
        },
        "bb5efc36b54e40c2a1b75097ca638bc4": {
          "model_module": "@jupyter-widgets/base",
          "model_name": "LayoutModel",
          "model_module_version": "1.2.0",
          "state": {
            "_view_name": "LayoutView",
            "grid_template_rows": null,
            "right": null,
            "justify_content": null,
            "_view_module": "@jupyter-widgets/base",
            "overflow": null,
            "_model_module_version": "1.2.0",
            "_view_count": null,
            "flex_flow": null,
            "width": null,
            "min_width": null,
            "border": null,
            "align_items": null,
            "bottom": null,
            "_model_module": "@jupyter-widgets/base",
            "top": null,
            "grid_column": null,
            "overflow_y": null,
            "overflow_x": null,
            "grid_auto_flow": null,
            "grid_area": null,
            "grid_template_columns": null,
            "flex": null,
            "_model_name": "LayoutModel",
            "justify_items": null,
            "grid_row": null,
            "max_height": null,
            "align_content": null,
            "visibility": null,
            "align_self": null,
            "height": null,
            "min_height": null,
            "padding": null,
            "grid_auto_rows": null,
            "grid_gap": null,
            "max_width": null,
            "order": null,
            "_view_module_version": "1.2.0",
            "grid_template_areas": null,
            "object_position": null,
            "object_fit": null,
            "grid_auto_columns": null,
            "margin": null,
            "display": null,
            "left": null
          }
        },
        "9f26462af6794b78bb25148d330bd757": {
          "model_module": "@jupyter-widgets/controls",
          "model_name": "ProgressStyleModel",
          "model_module_version": "1.5.0",
          "state": {
            "_view_name": "StyleView",
            "_model_name": "ProgressStyleModel",
            "description_width": "",
            "_view_module": "@jupyter-widgets/base",
            "_model_module_version": "1.5.0",
            "_view_count": null,
            "_view_module_version": "1.2.0",
            "bar_color": null,
            "_model_module": "@jupyter-widgets/controls"
          }
        },
        "9c81d143b9d94a6481a86547a4c081bc": {
          "model_module": "@jupyter-widgets/base",
          "model_name": "LayoutModel",
          "model_module_version": "1.2.0",
          "state": {
            "_view_name": "LayoutView",
            "grid_template_rows": null,
            "right": null,
            "justify_content": null,
            "_view_module": "@jupyter-widgets/base",
            "overflow": null,
            "_model_module_version": "1.2.0",
            "_view_count": null,
            "flex_flow": null,
            "width": null,
            "min_width": null,
            "border": null,
            "align_items": null,
            "bottom": null,
            "_model_module": "@jupyter-widgets/base",
            "top": null,
            "grid_column": null,
            "overflow_y": null,
            "overflow_x": null,
            "grid_auto_flow": null,
            "grid_area": null,
            "grid_template_columns": null,
            "flex": null,
            "_model_name": "LayoutModel",
            "justify_items": null,
            "grid_row": null,
            "max_height": null,
            "align_content": null,
            "visibility": null,
            "align_self": null,
            "height": null,
            "min_height": null,
            "padding": null,
            "grid_auto_rows": null,
            "grid_gap": null,
            "max_width": null,
            "order": null,
            "_view_module_version": "1.2.0",
            "grid_template_areas": null,
            "object_position": null,
            "object_fit": null,
            "grid_auto_columns": null,
            "margin": null,
            "display": null,
            "left": null
          }
        },
        "076a2b37073346c090e7da92be9e23a4": {
          "model_module": "@jupyter-widgets/controls",
          "model_name": "DescriptionStyleModel",
          "model_module_version": "1.5.0",
          "state": {
            "_view_name": "StyleView",
            "_model_name": "DescriptionStyleModel",
            "description_width": "",
            "_view_module": "@jupyter-widgets/base",
            "_model_module_version": "1.5.0",
            "_view_count": null,
            "_view_module_version": "1.2.0",
            "_model_module": "@jupyter-widgets/controls"
          }
        },
        "f9fbfbfa10f84effa92e4530ca2feae3": {
          "model_module": "@jupyter-widgets/base",
          "model_name": "LayoutModel",
          "model_module_version": "1.2.0",
          "state": {
            "_view_name": "LayoutView",
            "grid_template_rows": null,
            "right": null,
            "justify_content": null,
            "_view_module": "@jupyter-widgets/base",
            "overflow": null,
            "_model_module_version": "1.2.0",
            "_view_count": null,
            "flex_flow": null,
            "width": null,
            "min_width": null,
            "border": null,
            "align_items": null,
            "bottom": null,
            "_model_module": "@jupyter-widgets/base",
            "top": null,
            "grid_column": null,
            "overflow_y": null,
            "overflow_x": null,
            "grid_auto_flow": null,
            "grid_area": null,
            "grid_template_columns": null,
            "flex": null,
            "_model_name": "LayoutModel",
            "justify_items": null,
            "grid_row": null,
            "max_height": null,
            "align_content": null,
            "visibility": null,
            "align_self": null,
            "height": null,
            "min_height": null,
            "padding": null,
            "grid_auto_rows": null,
            "grid_gap": null,
            "max_width": null,
            "order": null,
            "_view_module_version": "1.2.0",
            "grid_template_areas": null,
            "object_position": null,
            "object_fit": null,
            "grid_auto_columns": null,
            "margin": null,
            "display": null,
            "left": null
          }
        },
        "fad8957d206c4316a675c94a999661ad": {
          "model_module": "@jupyter-widgets/controls",
          "model_name": "HBoxModel",
          "model_module_version": "1.5.0",
          "state": {
            "_view_name": "HBoxView",
            "_dom_classes": [],
            "_model_name": "HBoxModel",
            "_view_module": "@jupyter-widgets/controls",
            "_model_module_version": "1.5.0",
            "_view_count": null,
            "_view_module_version": "1.5.0",
            "box_style": "",
            "layout": "IPY_MODEL_cff0b76c8816438993628972fa5340f0",
            "_model_module": "@jupyter-widgets/controls",
            "children": [
              "IPY_MODEL_390a06cffc514b9f8f51bafbc4cd87dd",
              "IPY_MODEL_e51cf2fea9ac480ca775b88f41480194",
              "IPY_MODEL_c9b89a9f5ca34a36a96439571f0ca14b"
            ]
          }
        },
        "cff0b76c8816438993628972fa5340f0": {
          "model_module": "@jupyter-widgets/base",
          "model_name": "LayoutModel",
          "model_module_version": "1.2.0",
          "state": {
            "_view_name": "LayoutView",
            "grid_template_rows": null,
            "right": null,
            "justify_content": null,
            "_view_module": "@jupyter-widgets/base",
            "overflow": null,
            "_model_module_version": "1.2.0",
            "_view_count": null,
            "flex_flow": null,
            "width": null,
            "min_width": null,
            "border": null,
            "align_items": null,
            "bottom": null,
            "_model_module": "@jupyter-widgets/base",
            "top": null,
            "grid_column": null,
            "overflow_y": null,
            "overflow_x": null,
            "grid_auto_flow": null,
            "grid_area": null,
            "grid_template_columns": null,
            "flex": null,
            "_model_name": "LayoutModel",
            "justify_items": null,
            "grid_row": null,
            "max_height": null,
            "align_content": null,
            "visibility": null,
            "align_self": null,
            "height": null,
            "min_height": null,
            "padding": null,
            "grid_auto_rows": null,
            "grid_gap": null,
            "max_width": null,
            "order": null,
            "_view_module_version": "1.2.0",
            "grid_template_areas": null,
            "object_position": null,
            "object_fit": null,
            "grid_auto_columns": null,
            "margin": null,
            "display": null,
            "left": null
          }
        },
        "390a06cffc514b9f8f51bafbc4cd87dd": {
          "model_module": "@jupyter-widgets/controls",
          "model_name": "HTMLModel",
          "model_module_version": "1.5.0",
          "state": {
            "_view_name": "HTMLView",
            "style": "IPY_MODEL_02662b3eaf8c4cf9988b1d46e51505f7",
            "_dom_classes": [],
            "description": "",
            "_model_name": "HTMLModel",
            "placeholder": "​",
            "_view_module": "@jupyter-widgets/controls",
            "_model_module_version": "1.5.0",
            "value": "",
            "_view_count": null,
            "_view_module_version": "1.5.0",
            "description_tooltip": null,
            "_model_module": "@jupyter-widgets/controls",
            "layout": "IPY_MODEL_85affb491b2d450ea0f434440e97feca"
          }
        },
        "e51cf2fea9ac480ca775b88f41480194": {
          "model_module": "@jupyter-widgets/controls",
          "model_name": "FloatProgressModel",
          "model_module_version": "1.5.0",
          "state": {
            "_view_name": "ProgressView",
            "style": "IPY_MODEL_02c70eb3aaf34d00954a44e7d68b52c4",
            "_dom_classes": [],
            "description": "",
            "_model_name": "FloatProgressModel",
            "bar_style": "success",
            "max": 1648877,
            "_view_module": "@jupyter-widgets/controls",
            "_model_module_version": "1.5.0",
            "value": 1648877,
            "_view_count": null,
            "_view_module_version": "1.5.0",
            "orientation": "horizontal",
            "min": 0,
            "description_tooltip": null,
            "_model_module": "@jupyter-widgets/controls",
            "layout": "IPY_MODEL_0ef0084472c94db880e04a294df3a068"
          }
        },
        "c9b89a9f5ca34a36a96439571f0ca14b": {
          "model_module": "@jupyter-widgets/controls",
          "model_name": "HTMLModel",
          "model_module_version": "1.5.0",
          "state": {
            "_view_name": "HTMLView",
            "style": "IPY_MODEL_7b450560ce4a40949b00944b8362bbe1",
            "_dom_classes": [],
            "description": "",
            "_model_name": "HTMLModel",
            "placeholder": "​",
            "_view_module": "@jupyter-widgets/controls",
            "_model_module_version": "1.5.0",
            "value": " 1649664/? [00:00&lt;00:00, 2669181.23it/s]",
            "_view_count": null,
            "_view_module_version": "1.5.0",
            "description_tooltip": null,
            "_model_module": "@jupyter-widgets/controls",
            "layout": "IPY_MODEL_dc9c6a32dc344707b779ee348c734bf1"
          }
        },
        "02662b3eaf8c4cf9988b1d46e51505f7": {
          "model_module": "@jupyter-widgets/controls",
          "model_name": "DescriptionStyleModel",
          "model_module_version": "1.5.0",
          "state": {
            "_view_name": "StyleView",
            "_model_name": "DescriptionStyleModel",
            "description_width": "",
            "_view_module": "@jupyter-widgets/base",
            "_model_module_version": "1.5.0",
            "_view_count": null,
            "_view_module_version": "1.2.0",
            "_model_module": "@jupyter-widgets/controls"
          }
        },
        "85affb491b2d450ea0f434440e97feca": {
          "model_module": "@jupyter-widgets/base",
          "model_name": "LayoutModel",
          "model_module_version": "1.2.0",
          "state": {
            "_view_name": "LayoutView",
            "grid_template_rows": null,
            "right": null,
            "justify_content": null,
            "_view_module": "@jupyter-widgets/base",
            "overflow": null,
            "_model_module_version": "1.2.0",
            "_view_count": null,
            "flex_flow": null,
            "width": null,
            "min_width": null,
            "border": null,
            "align_items": null,
            "bottom": null,
            "_model_module": "@jupyter-widgets/base",
            "top": null,
            "grid_column": null,
            "overflow_y": null,
            "overflow_x": null,
            "grid_auto_flow": null,
            "grid_area": null,
            "grid_template_columns": null,
            "flex": null,
            "_model_name": "LayoutModel",
            "justify_items": null,
            "grid_row": null,
            "max_height": null,
            "align_content": null,
            "visibility": null,
            "align_self": null,
            "height": null,
            "min_height": null,
            "padding": null,
            "grid_auto_rows": null,
            "grid_gap": null,
            "max_width": null,
            "order": null,
            "_view_module_version": "1.2.0",
            "grid_template_areas": null,
            "object_position": null,
            "object_fit": null,
            "grid_auto_columns": null,
            "margin": null,
            "display": null,
            "left": null
          }
        },
        "02c70eb3aaf34d00954a44e7d68b52c4": {
          "model_module": "@jupyter-widgets/controls",
          "model_name": "ProgressStyleModel",
          "model_module_version": "1.5.0",
          "state": {
            "_view_name": "StyleView",
            "_model_name": "ProgressStyleModel",
            "description_width": "",
            "_view_module": "@jupyter-widgets/base",
            "_model_module_version": "1.5.0",
            "_view_count": null,
            "_view_module_version": "1.2.0",
            "bar_color": null,
            "_model_module": "@jupyter-widgets/controls"
          }
        },
        "0ef0084472c94db880e04a294df3a068": {
          "model_module": "@jupyter-widgets/base",
          "model_name": "LayoutModel",
          "model_module_version": "1.2.0",
          "state": {
            "_view_name": "LayoutView",
            "grid_template_rows": null,
            "right": null,
            "justify_content": null,
            "_view_module": "@jupyter-widgets/base",
            "overflow": null,
            "_model_module_version": "1.2.0",
            "_view_count": null,
            "flex_flow": null,
            "width": null,
            "min_width": null,
            "border": null,
            "align_items": null,
            "bottom": null,
            "_model_module": "@jupyter-widgets/base",
            "top": null,
            "grid_column": null,
            "overflow_y": null,
            "overflow_x": null,
            "grid_auto_flow": null,
            "grid_area": null,
            "grid_template_columns": null,
            "flex": null,
            "_model_name": "LayoutModel",
            "justify_items": null,
            "grid_row": null,
            "max_height": null,
            "align_content": null,
            "visibility": null,
            "align_self": null,
            "height": null,
            "min_height": null,
            "padding": null,
            "grid_auto_rows": null,
            "grid_gap": null,
            "max_width": null,
            "order": null,
            "_view_module_version": "1.2.0",
            "grid_template_areas": null,
            "object_position": null,
            "object_fit": null,
            "grid_auto_columns": null,
            "margin": null,
            "display": null,
            "left": null
          }
        },
        "7b450560ce4a40949b00944b8362bbe1": {
          "model_module": "@jupyter-widgets/controls",
          "model_name": "DescriptionStyleModel",
          "model_module_version": "1.5.0",
          "state": {
            "_view_name": "StyleView",
            "_model_name": "DescriptionStyleModel",
            "description_width": "",
            "_view_module": "@jupyter-widgets/base",
            "_model_module_version": "1.5.0",
            "_view_count": null,
            "_view_module_version": "1.2.0",
            "_model_module": "@jupyter-widgets/controls"
          }
        },
        "dc9c6a32dc344707b779ee348c734bf1": {
          "model_module": "@jupyter-widgets/base",
          "model_name": "LayoutModel",
          "model_module_version": "1.2.0",
          "state": {
            "_view_name": "LayoutView",
            "grid_template_rows": null,
            "right": null,
            "justify_content": null,
            "_view_module": "@jupyter-widgets/base",
            "overflow": null,
            "_model_module_version": "1.2.0",
            "_view_count": null,
            "flex_flow": null,
            "width": null,
            "min_width": null,
            "border": null,
            "align_items": null,
            "bottom": null,
            "_model_module": "@jupyter-widgets/base",
            "top": null,
            "grid_column": null,
            "overflow_y": null,
            "overflow_x": null,
            "grid_auto_flow": null,
            "grid_area": null,
            "grid_template_columns": null,
            "flex": null,
            "_model_name": "LayoutModel",
            "justify_items": null,
            "grid_row": null,
            "max_height": null,
            "align_content": null,
            "visibility": null,
            "align_self": null,
            "height": null,
            "min_height": null,
            "padding": null,
            "grid_auto_rows": null,
            "grid_gap": null,
            "max_width": null,
            "order": null,
            "_view_module_version": "1.2.0",
            "grid_template_areas": null,
            "object_position": null,
            "object_fit": null,
            "grid_auto_columns": null,
            "margin": null,
            "display": null,
            "left": null
          }
        },
        "686d531710c443c69104e6de5c882d8a": {
          "model_module": "@jupyter-widgets/controls",
          "model_name": "HBoxModel",
          "model_module_version": "1.5.0",
          "state": {
            "_view_name": "HBoxView",
            "_dom_classes": [],
            "_model_name": "HBoxModel",
            "_view_module": "@jupyter-widgets/controls",
            "_model_module_version": "1.5.0",
            "_view_count": null,
            "_view_module_version": "1.5.0",
            "box_style": "",
            "layout": "IPY_MODEL_0db2735225da41a191af635d1b11be42",
            "_model_module": "@jupyter-widgets/controls",
            "children": [
              "IPY_MODEL_2e44addfbc334d9fbcf18b236a8f51f6",
              "IPY_MODEL_40f6241677654792a73a2c7c9d505617",
              "IPY_MODEL_640bfb70b65e4bc1b9cfb8822e7f2323"
            ]
          }
        },
        "0db2735225da41a191af635d1b11be42": {
          "model_module": "@jupyter-widgets/base",
          "model_name": "LayoutModel",
          "model_module_version": "1.2.0",
          "state": {
            "_view_name": "LayoutView",
            "grid_template_rows": null,
            "right": null,
            "justify_content": null,
            "_view_module": "@jupyter-widgets/base",
            "overflow": null,
            "_model_module_version": "1.2.0",
            "_view_count": null,
            "flex_flow": null,
            "width": null,
            "min_width": null,
            "border": null,
            "align_items": null,
            "bottom": null,
            "_model_module": "@jupyter-widgets/base",
            "top": null,
            "grid_column": null,
            "overflow_y": null,
            "overflow_x": null,
            "grid_auto_flow": null,
            "grid_area": null,
            "grid_template_columns": null,
            "flex": null,
            "_model_name": "LayoutModel",
            "justify_items": null,
            "grid_row": null,
            "max_height": null,
            "align_content": null,
            "visibility": null,
            "align_self": null,
            "height": null,
            "min_height": null,
            "padding": null,
            "grid_auto_rows": null,
            "grid_gap": null,
            "max_width": null,
            "order": null,
            "_view_module_version": "1.2.0",
            "grid_template_areas": null,
            "object_position": null,
            "object_fit": null,
            "grid_auto_columns": null,
            "margin": null,
            "display": null,
            "left": null
          }
        },
        "2e44addfbc334d9fbcf18b236a8f51f6": {
          "model_module": "@jupyter-widgets/controls",
          "model_name": "HTMLModel",
          "model_module_version": "1.5.0",
          "state": {
            "_view_name": "HTMLView",
            "style": "IPY_MODEL_2ce1662f0a814566b8f5ce5692dc4880",
            "_dom_classes": [],
            "description": "",
            "_model_name": "HTMLModel",
            "placeholder": "​",
            "_view_module": "@jupyter-widgets/controls",
            "_model_module_version": "1.5.0",
            "value": "",
            "_view_count": null,
            "_view_module_version": "1.5.0",
            "description_tooltip": null,
            "_model_module": "@jupyter-widgets/controls",
            "layout": "IPY_MODEL_8e303d197f48487f9ae3da39ca68f3aa"
          }
        },
        "40f6241677654792a73a2c7c9d505617": {
          "model_module": "@jupyter-widgets/controls",
          "model_name": "FloatProgressModel",
          "model_module_version": "1.5.0",
          "state": {
            "_view_name": "ProgressView",
            "style": "IPY_MODEL_a4b16ef09c8e4ab2b0608c57c82a201a",
            "_dom_classes": [],
            "description": "",
            "_model_name": "FloatProgressModel",
            "bar_style": "success",
            "max": 4542,
            "_view_module": "@jupyter-widgets/controls",
            "_model_module_version": "1.5.0",
            "value": 4542,
            "_view_count": null,
            "_view_module_version": "1.5.0",
            "orientation": "horizontal",
            "min": 0,
            "description_tooltip": null,
            "_model_module": "@jupyter-widgets/controls",
            "layout": "IPY_MODEL_7b358cdef2d5413e9911a6637b0d7cff"
          }
        },
        "640bfb70b65e4bc1b9cfb8822e7f2323": {
          "model_module": "@jupyter-widgets/controls",
          "model_name": "HTMLModel",
          "model_module_version": "1.5.0",
          "state": {
            "_view_name": "HTMLView",
            "style": "IPY_MODEL_676a3312ccd546b59bdcae67d4001fbe",
            "_dom_classes": [],
            "description": "",
            "_model_name": "HTMLModel",
            "placeholder": "​",
            "_view_module": "@jupyter-widgets/controls",
            "_model_module_version": "1.5.0",
            "value": " 5120/? [00:00&lt;00:00, 140057.24it/s]",
            "_view_count": null,
            "_view_module_version": "1.5.0",
            "description_tooltip": null,
            "_model_module": "@jupyter-widgets/controls",
            "layout": "IPY_MODEL_a5b305fcf99345bf9205698fc0b5920e"
          }
        },
        "2ce1662f0a814566b8f5ce5692dc4880": {
          "model_module": "@jupyter-widgets/controls",
          "model_name": "DescriptionStyleModel",
          "model_module_version": "1.5.0",
          "state": {
            "_view_name": "StyleView",
            "_model_name": "DescriptionStyleModel",
            "description_width": "",
            "_view_module": "@jupyter-widgets/base",
            "_model_module_version": "1.5.0",
            "_view_count": null,
            "_view_module_version": "1.2.0",
            "_model_module": "@jupyter-widgets/controls"
          }
        },
        "8e303d197f48487f9ae3da39ca68f3aa": {
          "model_module": "@jupyter-widgets/base",
          "model_name": "LayoutModel",
          "model_module_version": "1.2.0",
          "state": {
            "_view_name": "LayoutView",
            "grid_template_rows": null,
            "right": null,
            "justify_content": null,
            "_view_module": "@jupyter-widgets/base",
            "overflow": null,
            "_model_module_version": "1.2.0",
            "_view_count": null,
            "flex_flow": null,
            "width": null,
            "min_width": null,
            "border": null,
            "align_items": null,
            "bottom": null,
            "_model_module": "@jupyter-widgets/base",
            "top": null,
            "grid_column": null,
            "overflow_y": null,
            "overflow_x": null,
            "grid_auto_flow": null,
            "grid_area": null,
            "grid_template_columns": null,
            "flex": null,
            "_model_name": "LayoutModel",
            "justify_items": null,
            "grid_row": null,
            "max_height": null,
            "align_content": null,
            "visibility": null,
            "align_self": null,
            "height": null,
            "min_height": null,
            "padding": null,
            "grid_auto_rows": null,
            "grid_gap": null,
            "max_width": null,
            "order": null,
            "_view_module_version": "1.2.0",
            "grid_template_areas": null,
            "object_position": null,
            "object_fit": null,
            "grid_auto_columns": null,
            "margin": null,
            "display": null,
            "left": null
          }
        },
        "a4b16ef09c8e4ab2b0608c57c82a201a": {
          "model_module": "@jupyter-widgets/controls",
          "model_name": "ProgressStyleModel",
          "model_module_version": "1.5.0",
          "state": {
            "_view_name": "StyleView",
            "_model_name": "ProgressStyleModel",
            "description_width": "",
            "_view_module": "@jupyter-widgets/base",
            "_model_module_version": "1.5.0",
            "_view_count": null,
            "_view_module_version": "1.2.0",
            "bar_color": null,
            "_model_module": "@jupyter-widgets/controls"
          }
        },
        "7b358cdef2d5413e9911a6637b0d7cff": {
          "model_module": "@jupyter-widgets/base",
          "model_name": "LayoutModel",
          "model_module_version": "1.2.0",
          "state": {
            "_view_name": "LayoutView",
            "grid_template_rows": null,
            "right": null,
            "justify_content": null,
            "_view_module": "@jupyter-widgets/base",
            "overflow": null,
            "_model_module_version": "1.2.0",
            "_view_count": null,
            "flex_flow": null,
            "width": null,
            "min_width": null,
            "border": null,
            "align_items": null,
            "bottom": null,
            "_model_module": "@jupyter-widgets/base",
            "top": null,
            "grid_column": null,
            "overflow_y": null,
            "overflow_x": null,
            "grid_auto_flow": null,
            "grid_area": null,
            "grid_template_columns": null,
            "flex": null,
            "_model_name": "LayoutModel",
            "justify_items": null,
            "grid_row": null,
            "max_height": null,
            "align_content": null,
            "visibility": null,
            "align_self": null,
            "height": null,
            "min_height": null,
            "padding": null,
            "grid_auto_rows": null,
            "grid_gap": null,
            "max_width": null,
            "order": null,
            "_view_module_version": "1.2.0",
            "grid_template_areas": null,
            "object_position": null,
            "object_fit": null,
            "grid_auto_columns": null,
            "margin": null,
            "display": null,
            "left": null
          }
        },
        "676a3312ccd546b59bdcae67d4001fbe": {
          "model_module": "@jupyter-widgets/controls",
          "model_name": "DescriptionStyleModel",
          "model_module_version": "1.5.0",
          "state": {
            "_view_name": "StyleView",
            "_model_name": "DescriptionStyleModel",
            "description_width": "",
            "_view_module": "@jupyter-widgets/base",
            "_model_module_version": "1.5.0",
            "_view_count": null,
            "_view_module_version": "1.2.0",
            "_model_module": "@jupyter-widgets/controls"
          }
        },
        "a5b305fcf99345bf9205698fc0b5920e": {
          "model_module": "@jupyter-widgets/base",
          "model_name": "LayoutModel",
          "model_module_version": "1.2.0",
          "state": {
            "_view_name": "LayoutView",
            "grid_template_rows": null,
            "right": null,
            "justify_content": null,
            "_view_module": "@jupyter-widgets/base",
            "overflow": null,
            "_model_module_version": "1.2.0",
            "_view_count": null,
            "flex_flow": null,
            "width": null,
            "min_width": null,
            "border": null,
            "align_items": null,
            "bottom": null,
            "_model_module": "@jupyter-widgets/base",
            "top": null,
            "grid_column": null,
            "overflow_y": null,
            "overflow_x": null,
            "grid_auto_flow": null,
            "grid_area": null,
            "grid_template_columns": null,
            "flex": null,
            "_model_name": "LayoutModel",
            "justify_items": null,
            "grid_row": null,
            "max_height": null,
            "align_content": null,
            "visibility": null,
            "align_self": null,
            "height": null,
            "min_height": null,
            "padding": null,
            "grid_auto_rows": null,
            "grid_gap": null,
            "max_width": null,
            "order": null,
            "_view_module_version": "1.2.0",
            "grid_template_areas": null,
            "object_position": null,
            "object_fit": null,
            "grid_auto_columns": null,
            "margin": null,
            "display": null,
            "left": null
          }
        }
      }
    }
  },
  "cells": [
    {
      "cell_type": "markdown",
      "metadata": {
        "id": "view-in-github",
        "colab_type": "text"
      },
      "source": [
        "<a href=\"https://colab.research.google.com/github/gonzo1978/CAP4453/blob/main/pytorch_tutorial2.ipynb\" target=\"_parent\"><img src=\"https://colab.research.google.com/assets/colab-badge.svg\" alt=\"Open In Colab\"/></a>"
      ]
    },
    {
      "cell_type": "markdown",
      "metadata": {
        "id": "wbbEjvpPpVmR"
      },
      "source": [
        "#PyTorch Tensor\n",
        "\n",
        "• Similar to NumPy arrays\n",
        "\n",
        "• They can also be used on a GPU\n",
        "\n",
        "• Faster computation\n",
        "\n"
      ]
    },
    {
      "cell_type": "code",
      "metadata": {
        "colab": {
          "base_uri": "https://localhost:8080/"
        },
        "id": "OvOJCuOCo_Rf",
        "outputId": "c2035085-14b8-4876-cad8-98af7fa4f75d"
      },
      "source": [
        "import torch\n",
        "\n",
        "torch.manual_seed(42)\n",
        "\n",
        "# random tensor\n",
        "x=torch.rand(2,3)\n",
        "y=torch.rand(3,3)\n",
        "\n",
        "print(x)\n",
        "print(y)"
      ],
      "execution_count": null,
      "outputs": [
        {
          "output_type": "stream",
          "name": "stdout",
          "text": [
            "tensor([[0.8823, 0.9150, 0.3829],\n",
            "        [0.9593, 0.3904, 0.6009]])\n",
            "tensor([[0.2566, 0.7936, 0.9408],\n",
            "        [0.1332, 0.9346, 0.5936],\n",
            "        [0.8694, 0.5677, 0.7411]])\n"
          ]
        }
      ]
    },
    {
      "cell_type": "markdown",
      "metadata": {
        "id": "qmoQgRABppVt"
      },
      "source": [
        "\n",
        "• All zeros\n",
        "\n",
        "• Directly from data\n",
        "\n",
        "• Size of a tensor\n"
      ]
    },
    {
      "cell_type": "code",
      "metadata": {
        "colab": {
          "base_uri": "https://localhost:8080/"
        },
        "id": "dYuZ9O58p838",
        "outputId": "7fdb1756-8acc-4d19-b959-67502500ea6b"
      },
      "source": [
        "x = torch.zeros(5, 3)\n",
        "print(x)\n",
        "x = torch.tensor([5.5, 3])\n",
        "print(x)\n",
        "print(x.size())"
      ],
      "execution_count": null,
      "outputs": [
        {
          "output_type": "stream",
          "name": "stdout",
          "text": [
            "tensor([[0., 0., 0.],\n",
            "        [0., 0., 0.],\n",
            "        [0., 0., 0.],\n",
            "        [0., 0., 0.],\n",
            "        [0., 0., 0.]])\n",
            "tensor([5.5000, 3.0000])\n",
            "torch.Size([2])\n"
          ]
        }
      ]
    },
    {
      "cell_type": "markdown",
      "metadata": {
        "id": "_v-QpY0xqhQt"
      },
      "source": [
        "\n",
        "\n",
        "#Operations\n",
        "• Adding tensors\n",
        "\n",
        "• Indexing"
      ]
    },
    {
      "cell_type": "code",
      "metadata": {
        "colab": {
          "base_uri": "https://localhost:8080/"
        },
        "id": "Q9xVfFV9qoD2",
        "outputId": "7d4a4c70-b904-4658-d33b-19d7e49bc33c"
      },
      "source": [
        "x = torch.randn(4, 4)\n",
        "y = torch.randn(4, 4)\n",
        "\n",
        "print(x)\n",
        "print(torch.add(x, y))\n",
        "\n",
        "print(x[:, 1])"
      ],
      "execution_count": null,
      "outputs": [
        {
          "output_type": "stream",
          "name": "stdout",
          "text": [
            "tensor([[-0.3553, -0.9138, -0.6581,  0.0780],\n",
            "        [ 0.5258, -0.4880,  1.1914, -0.8140],\n",
            "        [-1.2862, -1.4032,  0.0360, -0.0635],\n",
            "        [ 0.6756, -0.0978,  1.8446, -1.1845]])\n",
            "tensor([[-0.8011,  0.5313,  0.1983,  2.2961],\n",
            "        [ 1.0490, -0.1413,  0.9940, -1.8686],\n",
            "        [-2.0580, -1.5754,  0.5598, -0.0069],\n",
            "        [ 1.1019,  0.4772,  1.2029, -3.3909]])\n",
            "tensor([-0.9138, -0.4880, -1.4032, -0.0978])\n"
          ]
        }
      ]
    },
    {
      "cell_type": "markdown",
      "metadata": {
        "id": "cxhS5Ic8qxqj"
      },
      "source": [
        "#Operations\n",
        "• Resizing\n",
        "\n",
        "• If you want to resize/reshape tensor"
      ]
    },
    {
      "cell_type": "code",
      "metadata": {
        "colab": {
          "base_uri": "https://localhost:8080/"
        },
        "id": "htDyxVueq3KZ",
        "outputId": "4458ed2c-5a4a-4e17-f8b9-e196dbd9facf"
      },
      "source": [
        "x = torch.randn(4, 4)\n",
        "\n",
        "y = x.view(16)\n",
        "z = x.view(-1, 8)\n",
        "\n",
        "print(x)\n",
        "print(y)\n",
        "print(z)\n",
        "print(x.size(), y.size(),z.size())\n"
      ],
      "execution_count": null,
      "outputs": [
        {
          "output_type": "stream",
          "name": "stdout",
          "text": [
            "tensor([[ 1.6992,  0.0109, -0.3387, -1.3407],\n",
            "        [-0.5854,  0.5362,  0.5246,  1.1412],\n",
            "        [ 1.4332,  0.7440, -0.4816, -1.0495],\n",
            "        [ 0.6039, -1.7223, -0.8278,  1.3347]])\n",
            "tensor([ 1.6992,  0.0109, -0.3387, -1.3407, -0.5854,  0.5362,  0.5246,  1.1412,\n",
            "         1.4332,  0.7440, -0.4816, -1.0495,  0.6039, -1.7223, -0.8278,  1.3347])\n",
            "tensor([[ 1.6992,  0.0109, -0.3387, -1.3407, -0.5854,  0.5362,  0.5246,  1.1412],\n",
            "        [ 1.4332,  0.7440, -0.4816, -1.0495,  0.6039, -1.7223, -0.8278,  1.3347]])\n",
            "torch.Size([4, 4]) torch.Size([16]) torch.Size([2, 8])\n"
          ]
        }
      ]
    },
    {
      "cell_type": "markdown",
      "metadata": {
        "id": "OnghasQArjWy"
      },
      "source": [
        "# Torch tensor vs NumPy array\n",
        "\n",
        "• NumPy array: CPU\n",
        "\n",
        "• Torch tensor: GPU\n"
      ]
    },
    {
      "cell_type": "code",
      "metadata": {
        "colab": {
          "base_uri": "https://localhost:8080/"
        },
        "id": "CFB4oIy-rzS1",
        "outputId": "1aeee966-50b5-41d7-ba2e-dad448db98ef"
      },
      "source": [
        "import numpy\n",
        "a = torch.ones(5)\n",
        "print(a)\n",
        "b = a.numpy()\n",
        "print(b)\n",
        "\n",
        "a = numpy.ones(5)\n",
        "print(a)\n",
        "b = torch.from_numpy(a)\n",
        "print(b)"
      ],
      "execution_count": null,
      "outputs": [
        {
          "output_type": "stream",
          "name": "stdout",
          "text": [
            "tensor([1., 1., 1., 1., 1.])\n",
            "[1. 1. 1. 1. 1.]\n",
            "[1. 1. 1. 1. 1.]\n",
            "tensor([1., 1., 1., 1., 1.], dtype=torch.float64)\n"
          ]
        }
      ]
    },
    {
      "cell_type": "markdown",
      "metadata": {
        "id": "ILOulRZesXiW"
      },
      "source": [
        "# Matrix Multiplication in PyTorch"
      ]
    },
    {
      "cell_type": "code",
      "metadata": {
        "colab": {
          "base_uri": "https://localhost:8080/"
        },
        "id": "r8DgqQrvsaLY",
        "outputId": "e2125eef-f41a-4f48-b06f-fa0dd736374b"
      },
      "source": [
        "mat1=torch.randn(2,3)\n",
        "mat2=torch.randn(3,3)\n",
        "res=torch.mm(mat1,mat2)\n",
        "print(mat1)\n",
        "print(mat2)\n",
        "print(res)\n",
        "print(res.size())"
      ],
      "execution_count": null,
      "outputs": [
        {
          "output_type": "stream",
          "name": "stdout",
          "text": [
            "tensor([[ 0.9554, -1.0902,  2.5952],\n",
            "        [ 2.7504,  0.6488,  0.4496]])\n",
            "tensor([[ 0.3220, -1.0503,  0.0274],\n",
            "        [-0.7916, -0.5601, -0.9977],\n",
            "        [-0.9444, -0.7357, -0.3638]])\n",
            "tensor([[-1.2803, -2.3020,  0.1696],\n",
            "        [-0.0525, -3.5829, -0.7356]])\n",
            "torch.Size([2, 3])\n"
          ]
        }
      ]
    },
    {
      "cell_type": "markdown",
      "metadata": {
        "id": "ziyuorf7svUy"
      },
      "source": [
        "# Batch Matrix Multiplication in PyTorch"
      ]
    },
    {
      "cell_type": "code",
      "metadata": {
        "colab": {
          "base_uri": "https://localhost:8080/"
        },
        "id": "QfR9IcgPsxQI",
        "outputId": "ebcdf1ac-1d88-4282-8b45-fd4dc5486f50"
      },
      "source": [
        "import torch\n",
        "\n",
        "batch1=torch.randn(10,3,4)\n",
        "batch2=torch.randn(10,4,5)\n",
        "res=torch.bmm(batch1,batch2)\n",
        "\n",
        "print(res.size())"
      ],
      "execution_count": null,
      "outputs": [
        {
          "output_type": "stream",
          "name": "stdout",
          "text": [
            "torch.Size([10, 3, 5])\n"
          ]
        }
      ]
    },
    {
      "cell_type": "markdown",
      "metadata": {
        "id": "CdIVGXtgtGr-"
      },
      "source": [
        "# Many Tensor operations in PyTorch…\n",
        "\n",
        "• Matrix multiplication: **torch.mm**\n",
        "\n",
        "• Batch matrix multiplication: **torch.bmm**\n",
        "\n",
        "• Tensor Concatenation: **torch.cat**\n",
        "\n",
        "• Change Tensor dimensions: **torch.sqeueeze/torch.unsqueeze**\n",
        "\n",
        "…\n",
        "Check documentation at http://pytorch.org/docs/master/torch.html#tensors"
      ]
    },
    {
      "cell_type": "markdown",
      "metadata": {
        "id": "egwVLe8rtlCM"
      },
      "source": [
        "# Computational Graphs\n",
        "\n",
        "![cg1.png](data:image/png;base64,iVBORw0KGgoAAAANSUhEUgAAAOEAAAE2CAIAAAAYnWIOAAAAAXNSR0IArs4c6QAAAARnQU1BAACxjwv8YQUAAAAJcEhZcwAADsMAAA7DAcdvqGQAADOSSURBVHhe7Z13XBVn+vaNLWpiYuImv5iYbIya3cS4saxJJLZEYywRsXcpgmJBpErxIAiCoiCiKIKgFEF6VUBUFAmKCCKgFAuiFKUJSBGj7nvpPC/LosAcTmFmeL5/+PF+zuGcMzPXc9/XPbXLfygUbkM1SuE6VKMUrkM1SuE6VKMUrkM1SuE6VKMUrkM1SuE6VKMUriOeRv/666+ampri4uKUlJTo6GhfX19XV9f9+/fv3bt33759Li4uPj4+J0+evHz58v3796urq58+fUr+km/gl+P337t3D8uCJTp27BiWDsuIJcXyHj58+Pjx4zExMampqQ8ePMA6wZohf8k3njx5UllZmZeXd/HixYiICC8vL2dnZ0dHRyypk5OTm5ubv79/bGxsZmZmSUlJbW3ts2fPyF/KC7Yaffz4cU5ODjbVunXrFBQUdHV1sTDYfkVFRVhIvKGhoeHhw4fYZth4RkZGEyZMUFVVxRLeuHEDq+DFixfM53Ac/M5Hjx5dv34dc2/lypUTJ040Njb28/O7evUqthAz5err67HUSUlJnp6eOjo6WBvr16/HdM3NzYVYmc/hPljSsrKy9PT03bt3L1iwYNq0aRYWFqGhoRkZGRUVFRAi3gBFYpYmJCRgTqqpqU2aNElPTy88PPz27dvMRpcPbWsUGSI5ORkTa82aNdhgSJ9stgQ254ULF8zNzbFsWAtYzrq6OvIaV8EmiY+P37VrF2bXtm3bEhMT2dQBzN6oqChMS01NTSTaK1euyD/TiAtUiCJgZWW1fPly5Mtr166xqQOYpcHBwdra2lpaWqgq2dnZ5AUZ04ZGMdWQCzdu3GhtbY0cKe7swZIjjzo4OOATUDju3r1LXuAed+7cgcLwO7HNsrKyxK3dSK5QJ7Y6PsHDwwPrjbzAMTB/kCkxD6EzZMd2bBHMSWQfZCvkVORdFEnygsxoTaOwICoqKlu2bEFdk6SKYfulpaVB5fPnz0dKJqNcAqZl7ty5O3bsQEbBryWj4oO1dOnSJeTUVatWwTCQUc6A8h0SErJkyRJYajg3SbqFqqqqU6dObdiwwcDAAF6WjMqGFjUKB62srGxnZ4eegAxJRnl5OQzcvHnzsGxkiBugUispKcFq4xeSIckoLCxkDAOkT4a4ATpaTEUYSiiMDEnA8+fPUSRFIhGqP7w4GZUBb9AoZhusGFYxzAcsGhmVBpi4MHxLly49ceIElpCMdhz4DWFhYcgrWF7pNuZIqGiHkU1RgrA+yWjHgRLv7u6OOgZLI0W7jEVDi4msjISKRoqMSpvmGsVmw2pFexQZGSkLGWGpUA3V1dXRe0lSayQH345lhIxSUlJkISOsPRRWrEn41I6dkHAvR44cgW1DgidDUgXTG83G+vXrZdRvNNfozZs3sVrhphsaGsiQtMEiIXtpaGhgMnTUxsP3/vnnn5gqyOiya8OxDp2dnbE+kb3IkNzBVERno6amJqOpyIBpYG5ujj6surqaDEmP/9EotpyFhQX6NSRwMiQb0BuiQdm8ebO0LKC4lJSUwOzv3r1b1ns0KyoqYNcsLS1JLHeysrLWrl3r6+sr6z2aWKWLFy9Gwiax9PgfjZ4/f37FihX5+fkkliXFxcU6Ojp+fn7yt2tInOgeoFFptYOtgwoIy4u0TWI5gt5o3759aOBknXQY0EJhSdPS0kgsJf6rUaTrGTNmyLPpxmb77bffpNJjikVpaem0adNgi0kse2C+Z86cKclerfZx+fLl5cuXy20vGNLNoUOHYEylaxT/q1GktNWrV8uzj4ExRTLDUpFYXqAPNTExkW4j3zpYq2jOAgMDSSwX6urq4DGQR2VnuF8HRQMaPXv2LImlAdEopriSklJiYiITtknrBZp9+YavGDt2rHT3cLUOvgvfeO/ePRK3gNQdCHzUwoUL5ZlKsW6nTp0qlp/BUku44JiNnp6eRkZGUkx2RKMnT56EtYfBZ8JWwDJAyhEREQkJCc2aOMzX3NxcvBQVFcXeAG3cuBHukASyx8vLS1dXlwRvAl0UTAiW4uHDh2ToFejzYIRQtZv5dYxj8PTp00VFRWToTcBgbNq0KSYmhsSyx87OzsbGhgQsgKrgf06cOCFhykhPT0d5TElJIbHEvNQoZGdqaurh4cHGRqD319fX79Kly1dffYVusWnFxMZbunQpXlJQUGB/4AGCVlZWls9OKHwLTP2ZM2dI/CZQrX755RcsxeHDh8nQK1C//va3v7377rtmZmZNqyc8X58+ff75z39inpOhN4G22s3NzdzcXMJExRL8wilTpmRkZJCYBWVlZX/88ceHH34o4Z4ypCcrKytkU2kt6UuNInMgmV28eJEZapO8vLyff/65a9eu6HiuXbvGDKKKOTk59evX77PPPvP29ma/p+P+/fuzZ8/GvySWJZhF6AubJchmIIusXLmyR48eqqqqjWsZ/9m6des777zTt2/fWbNmNd1lhrkNQf/6669tngeEcr9u3bqSkhISyxLkiEmTJonlRKWlUayrI0eOIIVLa1/pS40WFBSgLty8eZMZahNko9DQ0I8//hjbTCQSMWU9OTl50KBBb7/9NjyDWJsBf66npyefIohUh0KP6kziN4FVjKaqf//+I0eObNzngP9gQmJa9uzZc9SoUU0LGWTXvXt3lII2N0lWVpaxsfGVK1dILEuQJmAKScAOaWkUxMXFYUpL68jFS41i3cERtp5dmlFZWYnWGPnj//7v/2DdUPGnT5+OEHMXmVWsJI+8tXfv3oMHD5JYljg6OqLPbTPHo6RgvqGyZ2ZmMiNpaWnfffcdtt+YMWNQKJAnmGXER0GyELS9vX2bdqW4uHj79u1YXSSWJZs3bxbX5TMa/fTTT2EoUalXrVq1bNkybJp2HEFFScEMSU1NJbFkvNQoZnZsbKy4R1xu3769YMGCbt26wX1Cr8gxgwcPDg4OFkugAFbdz88PhpjEsgReHr+wzQqI3hFJFNYTmwohlsjFxQWzccOGDcePH+/Vq5eWlhaTjLESkFn/8Y9/oIN89aetgT/Zs2ePLI7EvM68efPETdiMRt966y34nN69e6NOfvDBByiMWHBx95rjo1Ab4W1ILBkvNYo2Fg2duPsLseVQOtErIH0C9A2Ghobt2OOAz0GhR8UksSxRV1dHGWpzFiEjwrFgiTQ1NbFaMHvxH2wtZCZ0Icg006ZNY5rCsLAwbFHMUuRI5m9bAR8Fy45cTmJZMn78eFg4ErCD0Sg2JaSppqYGhR07dgyfgwXHVm7dIDUD5UWKOzFeajQ+Pr59aRllGhsPGwkLNnTo0Hb3PefOncNKIYEsQfFiuQ8YhhsaRWuILXfr1i2YUaRV2JgHDx4oKip+/fXXzOmFqGhIOeyPfTg7O+/evZsEsgQOhP3uP4ZGjero6DTaodOnT6NKYPDChQvMCBuQBdCFYxWRWDIk0iicyooVK1DssAwwcElJSeQFMYFG0USTQJZAoyx3X8Dvo9hh82DNYF3jP1OmTCktLcW0hKdEaoHUYAnGjRvXr18/5BvyZ23BfY1iZjbuqwFYXjg6NIVeXl5kiAWMRiMjI0ksGf+t9WLtpwB1dXUw1B999BEECqDUJUuWsCl5zWBq/dq1a0ksS9AHsKn1oKGhYezYsWiPoD9ra2t4UCsrKywy1hIcLZoneNPk5OSvvvoKdu3GjRvkz1pFnrUek0fcXofRKEpEs41oY2PTt29fsTSKtYdaHx0dTWLJeKlRrGukdMwYZogN2MxIfsOGDYM6Ue8CAgLwH/gY5BhxzyfAlsOfGxsbk1iWMJeJsZyNZmZm77//PiYPsi8KPawn84dIM1AAqj8y4ieffDJ69GiW7Sbehp7Jzc2NxLJkzpw5V69eJQE7GI1iiZqeqowNjU2D5CqWRsvLy7GqoRASS8ZLjV6/fh2dtVg7Ne/du4fOEU397Nmzb968CWcGE4Pwu+++w+xpcy9MU5Cc9u/fv2/fPhLLEkjkwIEDLI8vYN5iiVAfYLh/+umnxrOHsKIgXJQ/VPyuXbuKRCJmvE3gZZGSMUlILEsgEcx8ErCD0SisS1ZWFhn6z3+qq6uVlJSwHoKCgsgQC9BQbt68WVp7gl9qFL0ONh46A2aoTepfnXSNxAkPijXOKBKTDxsSg1CtWFdewzYZGhq2fiBRWkRERBgYGLBMe1gtQ4YMwRIBVHaYUWYc7ZGdnR0EinFsPJgHZrxNcnJyTExM5HMh3tGjR7ds2UICdjTtmaqqqpBBURKxfbESUEbaPAunKefPn9+6dau0rnB6qdHHjx/DPbDveJApYchQB5FCGo/EMCX7008/hXVDlWR/2XVBQcHcuXNlff0rAzqhWbNmNaqtdbBaFi5ciG2GVArn3TT7wkAzO9369+/f+qkkTUFrDK3L58RqWGQ0eWL1GI0axfTDXPLw8HBwcBgxYgRGNDQ02Jh4BrzT09MTLlZal96/1Cg+FJkMzQGbHShYkvHjx2OzIV82O3EE2x5Z6p133vniiy8SEhJYLhVKKpotcTu29oFvmT9/PsvdKFgbkCa2EJr62NjYpouDDDFz5ky8NH36dJb+G29DbjM1NRXLCLUbpIyJEyeKVdBgIpmeSVFREYvG0Lt3b2QQ9mcIAaQtWJrGQ3GS81KjAA0BHAybvRUwKDCvvr6+qampzX4EQiQqZFP466a+u3XwvZiyJJA9aFlglUjQKlgcZHcsC7Jms7MWkVMhdLwEy8VyS2BuY0mltcuQDTt27IAnIQELMIvgW86ePQvXd/DgQegMuLu7Y5uKpbbMzEysYSlaGqJRKA/TRf73LEChR1YWd0+eJOC70JWLewxGcv7888/FixeLdbRGQtDLzpgxo32nWSEN175C3PqG4uPj42NkZCTF23sRjQJXV1eYZbFmjITgu6ysrGxtbUksL7Zv3w63JOcl1dbWls+R+kagMGhFijWXDXDnUJG09t4z/FejEP4vv/wi1iEvCUlJSZkwYYIcbmrVjIcPH/7666/i7j6UBPS5+EY5X3MHaV68eBFeXyw3KQn4RnjuVatWibuPvHX+q1EA46WiotKOY0XtAP5MX18fTlSes5wBhQw2CzlGPlf3I7UsX7689ZP/ZQSMDSwp2nP5eAw4V0yJdh8Sb4n/0ShzkoRIJJLWGdQtgTKElllXV5flbiCp8+DBA5QkJycnKdqmN4Im19jY2MTEhMRyJyMjY+3atSEhISzPemk3mPDIoPv37yex9PgfjYIbN26oqal5e3vLbpFgw6Ojo7E88fHx8tnl9Dr4XjSw6urqsbGxsvsNWIeofVifOTk5ZEjuoOweP35cQ0ND3HPPxeLJkyfoK7BNZdH+Ntco6iDME2beqVOnZLEnD6sJNhSfHxoayvKYpIyAOwwKCsIvkdHGw9o7efIkPj8hIaGjpiIDCr2zszN+iYxcHJYOnRk+X0Z3dm6uUQCZMsYUFgr/J6PSAFJIT0+fNWvWzp07O1agDPgNXl5ey5YtY3niEnuYdaiqqnr69GnprsP2AUuzZ88eLKnULTimOpoKmebpN2iUAdl0wYIFLi4u0uq7MZvDwsJ+//132NCVK1d2eHZpBBkdv+rEiRPiXi3TEtDBwYMHFy1axOYCEnly+PBhJIhz585JxYVDkfn5+du3b4dApT7Jm9KiRkFqaqqSkpKlpeX169cl2W8CS5Sbm4t5PHXqVGw2NEyQPrwgir58Dgy2CZzxb7/9hjbu5s2bkuw3wbbPzMzcunXrvHnzpH5rLsmBqo4dOzZ79mx3d3fIS5IEj/l86dKljRs3ampqsr+iuH20plGA/tfe3h4/BS0w5oq42w+Z8vbt21gjmzZtsrGxaVyYiooKhPjYOx13Y85mwEtZW1uj2UeXg18lbo7HmsFMRlerpaXl6Ogo1kW28gS6TE5OxizS19cPCAhgf0JMI0gxSC5wa1hST09POey/a0OjAM1pXFwcth8ktWPHDngANpUCf4V1gdy5YcOGbdu2RUVFNauk2IoWFhaGhoay3vvDnurqalR8/Cr8ZgcHB2wJNpkGy4XqyUw5rCWsHy4Y0NYpKSmBQEUiERodZJCsrCw2cxJyjI6ONjMzQ8bZtWuX3A6CtK1RgBrx6NEjaM7V1RVb4o8//jA3Nw8MDMSvhNSY7geiLC0tzcjIgOnEpoJJWLNmDfJKYmIi1sgb3TSS9ObNm6F7EnMA/E4sEX7zvn37Vq9ePXfuXIgvPDwcFbysrIzZH4flxS+HEcIaQELC2tDW1obVu3LlivyPmbUbuKyCggLMKGwsZWXlpUuXomAilaCeYCkgWawKpI/CwsLLly/7+Pigi4BJQPaFW4CNQTYlHyR7WGm0Efzo4uJiSNPNzQ0/F65r3Lhxw4cP/+c//zls2DAFBQVIExvM2dkZZgWroM0uBEUfxhTvJ3EH8brlwC+/f//+xYsX0f1gibB5xo4di2XEkmJ5sdTz5883MDBAEkI/i3Ui5+OcUgSKzMvLQylA6UBanTlz5g8//PDNN99gSb///vuJEycuXrzYxMTE398fZg8TWBK/3j7E02gjmGSYiAATrhkYfGPWbAlkX8gULlD+C8+ABIl82dIlHMySkmVrwqulF29JOU7TJc3JyUEZgcPmwpK2U6PSBQ4BayQoKEj+2QgzxNjYWD7XE/OIpKSkFStWcKQ4cEKjaDJgxpFN4YfkmU1hsmHCtmzZwiMfKQewOY4cOYLekcQdDSc0CuB0vby8YN5hAVFZyKgswTfCTWpqaqKiCalkSw6aQljtkJAQEnc0XNEoYA4rQ6bNbpQsCzANLly4gMwdExPDdOuURtAvonNif52wrOGQRgHWDoovpCPrXYwFBQXr16/38fHhwmkDXCMrK2vGjBnc2cvLLY0CrBpLS0vUGtnt24f71NHRcXR0RNNKhihNgBk1MzMjAQfgnEYB2iYTE5OdO3fK4mREpGp0A9BoR+3q4j6rV6+Wzy05WMJFjQLmENSBAwekK1PoEn2SkpJSO45TdxJgfsaNG4f1T2IOwFGNotFOT0/fuHHj0aNHpXgtzqlTp1RUVKR1HyJBgtWOhokE3ICjGgUwpufOnVu6dGlgYKBUWu/U1FRtbe3o6GhqQ1uBeUAPCbgBdzUKUJrDw8MVFRVZ3ti2FfLy8pjzIfh7YF0+aGpqSvfqeMnhtEYBsmlQUNC0adMkcZBlZWVoVNGHyeFkR16DhnLSpEmcMqOA6xpl8PHxWb58efvWHZoAV1dXdXV1ORwa4DuoV1hRjfdC5Aj80ChwdHQ0NDQU6y6YDGfPnl21apU870rCXzCZbW1tuWaHeKNRdPf29vaWlpZi3eY9LS1NWVk5Pj6exJSWefHqQQuhrO/FLjd4o1EAS2phYbFr1y6Wdze5devW0qVL/f39SUxplZKSEjU1tVQpPZxOivBJo5jo2dnZaDz3798Pd09GWwDtEd6JvCu7Y6oC49KlS3BT3LkKshE+aRQ8f/4cE33GjBm+vr4oSbCnKioqTk5OzKvBwcFTp06FlPES/Ku+vj49nsQeb29vmFEO7vrgmUYZrly58vvvv58+ffry5cuff/65qakpY6Ggy4EDB/r5+QUEBOjo6Mj6um8hgRW4bds2T09PrplRwEuNgri4uDlz5ujq6vbp02fFihXMYyDnzZvXo0ePkSNHopGX1sOBOgnoRDHVO+QGlG3CP41WVVUlJycjWU6ePPndd9/t2rUrRJmQkFBfX//tt9++9dZbb7/99o8//ggnevDgQVmcOSVIUJpEIlHjs9A5Bf80Cj+6aNGiL774olu3bhBoly5d3nnnnWPHjmVkZAwaNAghBnv16gX5jhgxQkZ3chMeERERW7du7ajbwbYO/zRaUVGRmJhobW09bNgwpMzu3bv37NkTXurAgQP9+/eHQN9///0JEyYwN2Vos/2ngIaGBhcXF3t7ew6aUcBXP1pbW3v37l20or/++issqYKCwujRo/v27Ttu3LjAwMDi4mJ6CjN7SkpKbGxsxHraojzhokYHDBgwmDVfffUVSjz+bfwPeaEt8C2GhobkKzs3WVlZ+vr615o8EpxTcFGjEBD5nyxB2jAwMCBB5wYd59q1azl7kwGq0c7O06dP0XGyf3q0/KEa7exUV1ej4/T19SUx96Aa7eygYVJWVuasGQVUo52d7Oxs9k+P7hCoRjs7Pj4+HF8PVKOdHV1dXY6fYks12ql58eLFpEmTbt++TWJOwkuNMmeItnTgjnkJ7yFxC1CNgnv37o0bN66lNckR+KdRiM/Dw2PFihUqKirp6elk9P9z9erVRYsW4dXo6OjW72NKNQr8/Pz09PRIwFV4mUfj4+P//ve/d+/efeHChU0vtH3y5ImiomKXLl3Gjx+fkpJCRluAahTo6OgEBgaSgKvwUqNIkE5OTn369Onfv7+dnR1zp0zkVzc3Nwh34MCB7u7ubdYvqlGsRgUFBbGus+0Q+NozIWXOnTsXKXPEiBFxcXFY3UlJSR999FHv3r03btzI5jo7qtGMjAwlJSXu3Au3JfiqUYBV/PXXX3fr1m3ZsmWXL1+GZHv27IkuleWVjVSjXl5eIpGI4w0T4LFGnz59ipqOcv/xxx9DmvhPv379Tp06RV5uC6pRfX19f3//NneAdDg81ih4+PChpqYmKj6Dqakp+8rVyTWKXnPp0qVcPkzfCL81ChsaEBDw4YcfQqB9+/YV63HcnVyjV69eXbduHXM9LccRQh6FJYVGu3btijzKvnJ1co36+vpaW1tXVFSQmMPwWKNo7R0cHKDODz74YMiQIejou3fvHhkZ2fqu+0Y6s0axiszNzb29vXnxbCoeazQhIWHAgAHvvffe1q1b8/LyFixY0KNHjxEjRmRlZZF3tEpn1mhZWZmOjg5fbpPBV42iyk+fPh2Jc9q0acxF9ImJiUOHDu3Tp8+GDRuwDZi3tUJn1mhqaqqJiQk37/jwOrzUaENDA3Jnz549P//8c0iNKe7Pnj1jSv+nn37q4uLS5km7nVmjYWFhVlZWXLuneEvwUqPBwcGDBg2CAd2yZUvTQ0roAJBc0TwpKCi0+ZiHTqtRTOb9+/c7Ojpy/wgTA/80itmvqKiIXn78+PGv1/QLFy4MHDgQKRY9QesPduq0Gi0tLd2+fTv3TyVphMc9k4R0Wo1ev37d1NSURw9SoxrtdKCdR1OPppPEnIdqtHMBD+rj44OmnuVeZC5ANdq5qKystLW19fDwIDEfoBrtXBQWFmpra0v+bEt5QjXaucjNzZ03bx4vDtM3QjXaiXjx4kVISMimTZtIzBOoRjsRzKkkR48eJTFPoBrtRKCpnzt3Lu8encpFjQ4cONBE9sCWdTaNPnjwYNKkSbW1tSTmCVzUaGhoqJ+YbNiwYdmyZR4eHiRmh1jn7QuAqKioNWvWkIA/cFGj7cDT03PXrl30KSKtY2ZmduTIERLwB4FoFH2AnZ0d1WgroKmfMmVKbm4uifmDQDTq7u6+Z88eqtFWuHv37rhx40jAKwSi0cOHDzs4OPCuG5AnQUFB2traJOAVAtGoi4uLo6Mj1WgrmJiY8OswfSMC0aizs/O+ffuoRluioaFBUVExIyODxLxCIBo9cOCAk5MTm1uRdU5ycnKWLFnCo3NGmyIQje7fv//gwYNUoy0BMyoSiZreq5VHCESjMKOHDh2iGm2JrVu3enp68vQ5vwLRKJp6tE319fUkpjShpqZGXV09Pj6exHxDIBq1t7c/fPgw1egbyczM1NPTu3HjBon5hkA0unv3bnd39ydPnpCY0oSIiAhLS8uioiIS8w2BaNTW1vbIkSNUo28EZh09JX+LjEA0umPHDg8PD6rR16msrLSwsAgODiYxDxGIRq2trfnbt8oU2FCRSHT58mUS8xCBaNTKysrb25tq9HXOnj1rampaUFBAYh4iEI1u27bt2LFjVKPNePbsmY+PD1YOr9eMQDRqbm7u6+vLi7sSyxOYUXt7ez6e19wUgWjUzMzMz8+ParQZ+fn5xsbG58+fJzE/EYhGt2zZ4u/vTzXajIyMDA0NDV6bUSAQjZqYmAQGBvLlpq/y4fnz5xERERs2bCAxbxGIRo2MjIKDg6lGm1JfX29nZ+fs7Exi3iIQjRoaGoaEhFCNNqW6unr16tUXLlwgMW8RiEb19fXDwsK4/3hWeVJYWDht2jR+3X7sjQhEo7q6uvBeVKNNOXv27MqVK0nAZ/itUbQFzKkSmzZtYv+Eu07Czp079+3bRwI+w2ONQp0ikejf//53QECAmpra8ePH3dzcvvnmm927d5N3dG7mzJmTnJxMAj7D7zyakZHx1Vdf9e7d++233+7Xr1/fvn0VFBTYPORO8FRVVQ0fPlwYO4z5rVFsCTMzMwi0yyt69erl7e1NXuvcnDp1atWqVSTgObzvmeLj44cNG9btFWPGjGn9uWGdBysrq0OHDpGA5/Beo5WVlfr6+j169IBGYUnJaKfnjz/+4N29cFuC9xoFUVFR33333W+//caXh7TKmoKCgmnTpmH2kpjn8FWjz58/b2hoQGtfW1tbWlq6bNkyX19f2NO6uronT5789ddfL168IG/tfJw8eVJbW5u/FzA1g2cahS6LiorS0tJQ1kUi0fLly6dOnfrjjz+OGDFi5MiRP//88+zZs9etW2dnZ4fkmp2d3Tl7/O3btx8+fFgwR4Z5o1EkyJSUFA8Pj82bNy9evNjQ0BCJMzk5ubCwEC8haz579qy6uvrmzZtnzpxxcnJSV1dXU1Pbtm0bkkpeXl7nOQSFMoIFv3DhgmAqCT80mp6ebm1traura2FhERMTg+zY5gaAKG/dugUdo+oZGxt7enry9wJzscjNzV29ejXmKon5D9c1WlFRgdy5fv363bt3o1Ftx90bS0pKIiMjIVOA7CL4a55QN8zMzITUPnJao3fu3Fm7di0EevHiRUnuLYoGq7i4GDkVbtXFxUXYMt27d++BAweEdNt17mo0JydnzZo1MJT5+flSsVaQZlJS0vz585GShdr1YybDqYeFhZFYEHBRoxBQZmYmTJWbm5vUbz3CnPlrZWWF/5AhAZGdnW1iYsLrOz68Dhc1ihKvqanp6uoqo70nVVVVWlpa9vb2gtnL3ciZM2e2bt169+5dEgsCzmn00aNHKPE7duyQ6S5otL2YBgK7HSTqj6enJ1adwJ4LwDmNOjs7q6qqlpeXk1g2IEPHxMRgMgipLMK9wGrz/Y4Pr8MtjSYnJ69cuVI+d3Otq6uDndi+fXtJSQkZ4jko8Sj0Z8+eJbFQ4JBG0XevX78eupHbmbn5+fkqKiqxsbHCaPNTU1N1dXVv3bpFYqHAIY1GR0fr6+tDNySWCwEBAfhSWVsLOYBpFhkZuXbtWuFdwM0VjaLybtu2zd3dXc472MvKyhYuXJiSkkJi3oI+ycnJSRgX2TWDKxpNS0szMjJCtSKxHDl48KCZmRkJeAsmm4GBAXwLiQUEJzSKOuXv7y8SiR49ekSG5Mjt27cVFBT4XiLv37+PgoB/SSwgOKHRx48f79mzB/msQ3qX58+fT5s27dq1ayTmJwkJCStWrBDkKYic0Chmv7m5+alTp0gsd6ysrPh+7y44UVtbWxIIC05o9Pr167q6ullZWSRmDRoF5A9TU9M5c+bMnDlz1apVERER7WjSo6Ki1qxZQwJ+giQaFxdHAmHBCY0mJyevXbu2tLSUxOxoaGiAQ+jSpUu/fv2GDRs2fPjwTz75pEePHvPmzRP3AcM3b96cMmUKCXhIfX39jz/+KIA9aG+EExr9888/kQLFPcUJneyoUaM+/vhjIyOjzMzM3Nzcw4cPDxgw4LvvvhP32ZjV1dXff/89CXhIUlLS3LlzSSA4OKFRSEpFRUXchgkaXbZsGQRaWFjIjKA3nz59ejs0irZpyJAhJOAhqCd2dnYkEBw81igUiRoNbty4cf78eX9/fwsLi4EDB7ZDo2iHhw4dSgIesmDBgosXL5JAcHBCo4mJierq6uKeJgeNHjt2bMyYMTCjgwcP/uyzz9577z3Y03ZotLKycuTIkSTgG48ePcJKENJJhs3ghEZTUlLWrVsn7mViEOK7776LJumHH35ABvXx8UEumThxYjs0ikwMk0ACvnHu3Lnly5eTQIhwQqNZWVn6+vrp6ekkZodIJOrVqxearcZ+Fl2XoqIiGnxxbwIfHBysra1NAr6xe/fuvXv3kkCIcEKjaHqYmzWQmB1IvSjuW7ZsqaurQ1hTUxMUFNS3b99vv/32zJkzzHtYgg/h6anBcNIrV64Ut27wC05otLa2FpnA0dFRrLbJ2dm5a9euUKSVlZWDg4OBgcGXX34JP/rhhx+qqaldvXqV5adhM0+aNCknJ4fEfKC0tNTJyQne5t69e2iYBHmYvhFOaBSEhIQgmYm1Gx8bZv78+RAlcx9noKqqumnTJozAp2ITsjxNJDMzc/Lkyfw60p2XlzdhwgSYb6w0LDImZHh4+NGjR8nLwoIrGoVQNm/enJSURGIWIE3evXs3MDDQ1dXVw8MjJiamuLgYKsfWCg0NvXPnDss8am9vb2NjQwKegF4eDh5TsX///qgeCgoKw4YN09HRIS8LC65oFGnM2tr6wIED4u5Def78+dOnT5EyGxWJEcD8v00g69mzZ2dnZ5OYJ2B5YaC7d+/+1ivQO6KkCO9SbAauaBTAXW3YsEE+F9wxYGIcOnQI7VpVVRUZ4g+xsbGffPIJjA1M+Q8//CCw65WbwiGNIh0aGRmh+5H6vUlaAulTXV39/PnzYvVqHCEjI+OXX37p1q3b8OHDBXZjkmZwSKMASVRFReXSpUskliWojI6Ojnv27OHp0wofPnyoqakJGxoUFCTsh6JzS6PAz88PBhE2kcSyARsVzZaGhgayERnqaFBAYHXYs3r16lGjRn399deY1WSIHbw7m5tzGoWvMjExQdMqU4OVmZmprKwMmXInA02YMMHLyytaxri4uPzxxx/kK3kC5zQKSktLtbS0bG1tZSQgFPdly5a5urrKzfiyARqVw674rKwsqlHp8ODBAx0dHWtra7guKTY0f/31V25uLrzErFmzIiMj8/PzoVeO3DKXarQlOKpRAAGhzTc0NExNTZXKQaCqqqrQ0NAlS5bY2dl5enrCz82bNw++wsPDIzEx8e7dux27+4ZqtCW4q1FQWFhoYWGxdu3a4OBgSS69R/rMzs7et2/fypUr0QUzx0ih+3v37oWFhZmbm2/cuNHMzAxdC0R87dq1DnmgI9VoS3Bao6C6ujomJgYJddOmTadPn27HznYIEdaTeWhTeno6I9BmFBUVnTlzBg0v9GpsbIyO7eDBg5cuXZLnvZ6pRluC6xplQCFGz4tGCgXax8cHkmrTpEKLUOSePXsWLVpkZWUFfbe5HxSZtaSk5OrVqyEhIcip2tray5cvt7GxOXfunBwORFGNtgQ/NArQ4xcUFMTGxhoYGPz888+LFy9G7YZ6IN+amhpIFgqDH8jIyIAxQOGePHmyoqKira0ttgrUKVbjhTcjg0IxV65cQUJVVVWdOnWqnp5edHT0G9OwVKAabQneaJQB6oFYkdXi4+OhP2Vl5V9++WX48OFDhw79+uuvR48ejYYdrsDd3f3GjRvogSSXFKSPxh8NnK+vL8T6r3/9C/kV0yAvLw8/Q4r7BKhGW4JnGu1wSktLAwIC1q9fP2fOHB0dHUwG5FrkcsnbLKrRlqAabScPHz6MioqytLTU0NAwMTGBf0VyhZdt99F/qtGWoBqVFIgVthi2VSQSQaxGRkb4f0JCQlmrj3x+/RAX1WhLUI1KBxjl8vLytLS0iIiIvXv3orFbvXr1tm3b0Ga9nlnhcXV1dSMjI0n8CqrRlqAalT7V1dVwqJcuXXJzc9PS0vr11183bNhw4sSJpmJl7gMAa0ti8TWKTFxUVIS+TaxdFlSjlP/h6dOnNTU1hYWFQUFB6urqCgoKMK/Hjx+/d++eqqpqz549//GPfxw5coQ5dUYsjUKXJ0+eHDx4sLm5uVj7bqlGKa2B/Ipsqqen9/vvv3/77bddu3bt1q0bdObk5PT48eN2aHTAgAFwwFSjFCnz/Pnz8PBwSPOtt97q0qVLjx49hg4d6uDg8P3334ul0aioKGjU1NRUrAO2VKOUtomLi4MZ7du3b69evT7//PNx48YtXrzYysoKSm1To3AODx8+fPCKo0ePvvfeexs3brx9+zYGAZq2Ni+IpRqltI2rq6umpqadnZ23tzfq9ZUrV/Lz8yG+8ePHt6lRJOBly5bNfsXo0aORhocMGTJz5kyESkpK+vr6UCp5awtQjVLaprS0FFnw9dsIsPGjzs7OH330EaT5Rn766Sd0Y+StLUA1Smk/bDSK1gpJNy8v786dO8jHH3zwAVLyjRs3MAKKioporafIENrXtwTVKFcQV6MnTpygGqXIlXZo9NNPP6X7nijyQyyNArRHnp6eSUlJYl3hTTVKaT/iarR9UI1S2g/VaEtQjXIFqtGWoBrlClSjLUE1yhWoRluCapQrUI22BNUoV6AabQmqUa5ANdoSVKNcARpNTk4ulDHnzp2jGqW0Ey0tLciUPWPHjh00aNDw4cNJzBojIyPylTyBapSvPHjwYPv27eI+ZJWPUI3yFUajJ06cILFwoRrlKw8fPqQapXCakpISaLTZzU4ECdUoX2E0GhERQWLhQjXKV0pLS6lGKZwGGrW2tg4PDyexcKEa5StlZWXQaFhYGImFC9UoX6EapXCd8vJyaDQ0NJTEwoVqlK9UVFRAoyEhISQWLlSjfIXRaHBwMImFC9UoX3n06JGNjQ3VKIW7MBoNCgoisXChGuUrlZWV0GhgYCCJhQvVKF+hGqVwnaqqKmi06ZNJhArVKF+prq6GRv39/UksXKhG+Qo0umPHDqpRCnd5/PgxNOrn50di4UI1ylcYjR4/fpzEwoVqlK/U1NRQjVI4DaNRX19fEgsXqlG+UltbC436+PiQWLhQjfIVqlEK16mrq4NGjx07RmLhQjXKV6DRnTt3ent7k1i4UI3ylfr6emjUy8uLxMKFapSvPHnyhGqUwmkYjXp6epJYuFCN8pWGhgZo1MPDg8TChWqUr1CNUrjO06dPbW1tjx49SmLhQjXKVxiNHjlyhMTChWqUr/z111+NGsX/mUFBQjXKP3R0dMaOHRsZGWllZeXk5OTr6zts2DBXV1fysuCgGuUfd+/e7d+//zuv6NWrF/4dNGgQeU2IUI3yDzhRU1PT7t27d3lF7969XVxcyGtChGqUl6SlpQ0dOrRr165Q6pgxYwoLC8kLQoRqlJc8fvzY3Ny8W7dub7/9trOzc0NDA3lBiFCN8pXExMRRo0ZNnDjx+vXrZEigUI3yjBcvXjx//vzZs2fV1dUikcjOzq62thYhBvESeZOwoBrlAZBgWVlZbm5uRESEtbW1iorK5MmTR44c+c0rkE2nTJmipqa2Y8eOkydP3rx5s7y8HJIlf8x/qEY5DdSZnZ0dEhKyZcuWhQsXrlmz5tChQ/Hx8fn5+TU1NRAigDe9e/duXFzcwYMHNTQ0Fi9ebGZmFh4eDrHiz8kH8RmqUe5y+/ZtFxcXfX19PT29oKCg+/fvt5kd8QbI19/fX0dHZ/PmzW5ubpAveY23UI1yEaTGyMhIAwMDExMTZM2qqiryAmsqKytjY2ONjY2h1JiYGHhW8gIPoRrlHKWlpZaWljCdkClsKBkVH7RQJSUloaGhK1assLW1raioIC/wDapRbgElGRkZrV+/Pj09XSpnijx9+vTq1avwqSKRCOmZjPIKqlEO8ejRI6jT3Nxc6mKqrq6G9Ddt2oT/kCH+QDXKFVDW4R0hUGQ+MiRVGhoaYE+RTXlX9KlGOQESp4WFBZKoTJsb9F5r1qzZuXNnTU0NGeIDVKOcAJ3N8uXLs7KySCwz4E2VlZWjoqJIzAeoRjue3NxcOMWYmBg57HKHkQgLCzM0NLxz5w4Z4jxUox0MmncHBwcUernZxJKSEhhTV1dXvhyFohrtYK5du6avr3/x4kUSy4W4uDgDA4Ps7GwScxuq0Y4ESdTb21v+ey7RPOnp6YWEhPAilVKNdiSFhYWmpqaRkZEkliOBgYFbtmwpLS0lMYehGu1IUlJSVFRUioqKSCxH7t+/v3jxYl6Ue6rRDgOF3s/PDzW3zbOZZAG+VFNTMzw8nPtnRlONdhh1dXXbt2/vwBs2ubi4WFtbd8gMEQuq0Q4DjYuGhkb7Ovra2tqysrLq6uo3KgzqL39F6/qLj4+H0+D+PU6oRjuMiooKRUXFgoICErMGqrK1te3Ro8eoUaPi4uKaCRHCRRHv3bv34MGD8/PzyeibwKtTpkyR0ekBUoRqtMNAIpw4cWL7DtCj11FQUOjSpQsycXFxMRl9dW1JQEAA1NmzZ8+9e/e27jVrampGjx5NNUppkdLS0p9++ql9drChocHLy2vAK/z9/Rt1lpeXp6SkBO3OmDGjzf1K+Ophw4ZRjVJaRBKNgqKiIlVVVcgRyfjevXsYqa+vP3DgwN/+9rcvv/wyNja2zYadapTSBqj1kyZNavdpclDYuXPnYElR1nfv3o2RtLS0H374Aao1NTVlcwnU48eP//3vf1ONUloEPdPs2bOZFNg+IC9ra+sPPvjgvffey8nJsbS07N69+++//56ZmUne0SowBlOnTqV9PaVFmAb8woULJG4XMAyzZs1qvIce7Cl8Kkv/cPbsWXV1de4fsqca7TDq6upsbGzc3d1J3F4SEhKGDBkCgfbp00dLS4v9OX4wrzt37my3IZYbVKMdBhJYYGCgtra2hCrB5xgbG3ft2nXMmDHJyclktC3wpUiiJ0+epMdCKa1x9epVNTU1SSwpQ1RUVLdu3ZSUlNh3YDCjS5cuzc3NJTGHoRrtSIqKikQiUWhoKInbC6PROXPmsD8icPz48a1bt5aXl5OYw1CNdiQouNAKKrWEl72Lq9HKysqNGzdGRERw34wCqtEOJjs728DAAC22JL5QLI3ii2BDMTH4ctkd1WgHg44H/bWZmZkkt3aKiYnp3r373Llz2Wi0uLjYyMjo6NGj3N/rxEA12vGgfdHT0wsPD2/37vScnJx169a5uLi0eWN8vMHf3x9JVPJGTW5QjXKC6OjohQsXXrt2jcQyIykpacmSJbAWJOYDVKOcoK6ubteuXWpqajK9QPTRo0fKysr79u2rr68nQ3yAapQroLUXiUT6+voyepANPlZLS8vKykrO10lLDtUoh3jy5MnmzZshU7Q1UtwrhI8qLCyEQDEHuH8GyetQjXKLyspKS0tLNECJiYmQLBmVAJT1+Ph4DQ0NGxsbft0urxGqUc5RXl6+Z8+eVatWHT9+XJJL71+8eHH//n1vb29VVdUDBw5A/eQFvkE1ykVqa2vj4uLMzMxQoE+ePIleh7zAGgg9ODgYf25ubn7hwgV+NUnNoBrlLgUFBQEBAQYGBurq6h4eHnl5eW2aVLzh1q1b7u7uyJ3GxsaQaYfcBEW6UI1yGmgO9ZrJqdOnT1+0aJG9vX1sbOydO3fQnuNVUF1dDV1GR0fv2rVr/vz5M2fORO6EB0WfhFfJB/EZqlEeAGdZV1dXWlqKqu3g4IC0Onny5O+//37oK0aMGDFlypQ1a9Y4Ojqi0yorK8ObuX9WKHuoRilch2qUwnWoRilch2qUwnWoRilch2qUwnWoRinc5j//+X9OZ8FhES/iGAAAAABJRU5ErkJggg==)"
      ]
    },
    {
      "cell_type": "code",
      "metadata": {
        "colab": {
          "base_uri": "https://localhost:8080/"
        },
        "id": "lIicS35euSk6",
        "outputId": "22f7c70a-c49e-4547-c258-fc55e1f8b7bf"
      },
      "source": [
        "import torch\n",
        "\n",
        "# input\n",
        "x = torch.ones(2,2)\n",
        "\n",
        "# parameters\n",
        "w = torch.randn(2,1,requires_grad=True)\n",
        "b = torch.randn(1,requires_grad=True)\n",
        "\n",
        "# prediction\n",
        "p = torch.sigmoid(torch.mm(x, w) + b)\n",
        "\n",
        "print('prediction is: ' + str(p))\n",
        "\n",
        "# groundtruth\n",
        "y = torch.ones(2,1)\n",
        "\n",
        "# cross-entropy loss\n",
        "loss = -y*torch.log(p)-(1-y)*torch.log(1-p)\n",
        "print(loss)\n",
        "\n",
        "# the cost to minimize\n",
        "cost = loss.mean()\n",
        "print(cost)"
      ],
      "execution_count": null,
      "outputs": [
        {
          "output_type": "stream",
          "name": "stdout",
          "text": [
            "prediction is: tensor([[0.8229],\n",
            "        [0.8229]], grad_fn=<SigmoidBackward0>)\n",
            "tensor([[0.1949],\n",
            "        [0.1949]], grad_fn=<SubBackward0>)\n",
            "tensor(0.1949, grad_fn=<MeanBackward0>)\n",
            "prediction is: tensor([[0.9083],\n",
            "        [0.9083]], grad_fn=<SigmoidBackward0>)\n",
            "tensor([[0.0962],\n",
            "        [0.0962]], grad_fn=<SubBackward0>)\n",
            "tensor(0.0962, grad_fn=<MeanBackward0>)\n"
          ]
        }
      ]
    },
    {
      "cell_type": "markdown",
      "metadata": {
        "id": "jMB67aBBvkj0"
      },
      "source": [
        "# Automatic Gradient Computation"
      ]
    },
    {
      "cell_type": "code",
      "metadata": {
        "colab": {
          "base_uri": "https://localhost:8080/"
        },
        "id": "twjkjhrBvoKI",
        "outputId": "3cecea8f-0fc4-4ada-c8c1-a25491a3da6a"
      },
      "source": [
        "p = torch.sigmoid(torch.mm(x, w) + b)\n",
        "loss = -y*torch.log(p)-(1-y)*torch.log(1-p)\n",
        "cost = loss.mean()\n",
        "print('loss mean: ' + str(cost))\n",
        "\n",
        "# compute the backward pass\n",
        "cost.backward()\n",
        "print('cost backward: ' + str(cost))\n",
        "\n",
        "print(w.grad)\n",
        "print(b.grad)"
      ],
      "execution_count": null,
      "outputs": [
        {
          "output_type": "stream",
          "name": "stdout",
          "text": [
            "loss mean: tensor(0.0962, grad_fn=<MeanBackward0>)\n",
            "cost backward: tensor(0.0962, grad_fn=<MeanBackward0>)\n",
            "tensor([[-0.0917],\n",
            "        [-0.0917]])\n",
            "tensor([-0.0917])\n"
          ]
        }
      ]
    },
    {
      "cell_type": "markdown",
      "metadata": {
        "id": "TEPe4Bw8yDjd"
      },
      "source": [
        "#Training procedure\n",
        "• Define the neural network\n",
        "\n",
        "• Iterate over a dataset of inputs\n",
        "\n",
        "• Process input through the network\n",
        "\n",
        "• Compute the loss\n",
        "\n",
        "• Propagate gradients back into the network’s parameters\n",
        "\n",
        "• Update the weights of the network"
      ]
    },
    {
      "cell_type": "markdown",
      "metadata": {
        "id": "DskyzNh1yXKQ"
      },
      "source": [
        "## 1. Build Neural Networks using PyTorch\n",
        "\n",
        "Neural networks can be constructed using the torch.nn package.\n",
        "\n",
        "**Forward**\n",
        "\n",
        "\n",
        "• An nn.Module contains layers, and\n",
        "\n",
        "• A method forward(input) that returns the output\n",
        "\n",
        "• You can use any of the Tensor operations in the forward function\n",
        "\n",
        "<br>\n",
        "\n",
        "**Backward**\n",
        "\n",
        "• nn depends on autograd\n",
        "\n",
        "• You just have to define the forward function"
      ]
    },
    {
      "cell_type": "code",
      "metadata": {
        "id": "KWjQFHoey7Og"
      },
      "source": [
        "# Define a Network Class\n",
        "\n",
        "# You don’t need to define a backward function!\n",
        "\n",
        "import torch\n",
        "import torch.nn as nn\n",
        "import torch.nn.functional as F\n",
        "\n",
        "class Net(nn.Module):\n",
        "\n",
        "  def __init__(self):\n",
        "    super(Net, self).__init__()\n",
        "    # create layers\n",
        "    # an affine operation: y = Wx + b\n",
        "    self.flatten = nn.Flatten()\n",
        "    self.fc1 = nn.Linear(28*28, 120)  # 28*28 from image dimension\n",
        "    self.fc2 = nn.Linear(120, 84)\n",
        "    self.fc3 = nn.Linear(84, 10)\n",
        "\n",
        "  def forward(self, x):\n",
        "  # define feed-forward function\n",
        "    x = self.flatten(x)\n",
        "    x = F.relu(self.fc1(x))\n",
        "    x = F.relu(self.fc2(x))\n",
        "    x = self.fc3(x)\n",
        "    return x"
      ],
      "execution_count": null,
      "outputs": []
    },
    {
      "cell_type": "markdown",
      "metadata": {
        "id": "xwz022L40HrQ"
      },
      "source": [
        "# 2. Iterate over a dataset of inputs\n",
        "\n",
        "## Loading data - torchvision\n",
        "\n",
        "**Torchvision**\n",
        "\n",
        "• it’s extremely easy to load existing datasets.\n",
        "\n"
      ]
    },
    {
      "cell_type": "code",
      "metadata": {
        "colab": {
          "base_uri": "https://localhost:8080/",
          "height": 428,
          "referenced_widgets": [
            "a053d5d1f8004a61a0ed450733806914",
            "e9b324b71e0d43708b0455469184e80e",
            "3daffff4ff8f496dac2f8c881635a1b1",
            "9e19d6a200ee4868a7304bd0ece8d69f",
            "f5d8278b0e694e92987fde4d8726ea75",
            "6dbe0935a290416ba40e195adf9cc9c5",
            "bf3f499924e04d39ba99728defe0a15b",
            "3d3c304e2c63428dbf1423b277b49e71",
            "0bb56b5f3e7648b9a190628a5c1980f9",
            "d9ce63b1574e4af68baebc6563540b7a",
            "e13884bdf5db4422b37c07ed770e5f61",
            "53545690ee514cd7a1870f2cf95da80f",
            "191d5d22e78f41518ddd29269857640c",
            "14d783411ea34a3f9c60b1ebf539ec0a",
            "22e92c472cf4427b8a38edbf18d3861e",
            "c937b641efc34c089dd3db1d93d1a4b6",
            "cef81bfe4c714bb6ab9965eef45a1a6c",
            "bb5efc36b54e40c2a1b75097ca638bc4",
            "9f26462af6794b78bb25148d330bd757",
            "9c81d143b9d94a6481a86547a4c081bc",
            "076a2b37073346c090e7da92be9e23a4",
            "f9fbfbfa10f84effa92e4530ca2feae3",
            "fad8957d206c4316a675c94a999661ad",
            "cff0b76c8816438993628972fa5340f0",
            "390a06cffc514b9f8f51bafbc4cd87dd",
            "e51cf2fea9ac480ca775b88f41480194",
            "c9b89a9f5ca34a36a96439571f0ca14b",
            "02662b3eaf8c4cf9988b1d46e51505f7",
            "85affb491b2d450ea0f434440e97feca",
            "02c70eb3aaf34d00954a44e7d68b52c4",
            "0ef0084472c94db880e04a294df3a068",
            "7b450560ce4a40949b00944b8362bbe1",
            "dc9c6a32dc344707b779ee348c734bf1",
            "686d531710c443c69104e6de5c882d8a",
            "0db2735225da41a191af635d1b11be42",
            "2e44addfbc334d9fbcf18b236a8f51f6",
            "40f6241677654792a73a2c7c9d505617",
            "640bfb70b65e4bc1b9cfb8822e7f2323",
            "2ce1662f0a814566b8f5ce5692dc4880",
            "8e303d197f48487f9ae3da39ca68f3aa",
            "a4b16ef09c8e4ab2b0608c57c82a201a",
            "7b358cdef2d5413e9911a6637b0d7cff",
            "676a3312ccd546b59bdcae67d4001fbe",
            "a5b305fcf99345bf9205698fc0b5920e"
          ]
        },
        "id": "xrF7Rt6i0eRK",
        "outputId": "f3e71282-ee6e-4e36-e74d-3c8f878147d8"
      },
      "source": [
        "import torchvision\n",
        "import torchvision.transforms as transforms\n",
        "\n",
        "# check https://pytorch.org/vision/stable/transforms.html\n",
        "\n",
        "transform = transforms.Compose([transforms.ToTensor(),transforms.Normalize((0.5), (0.5))])\n",
        "# torchvision.transforms.Normalize(mean, std, inplace=False\n",
        "# Nomalize a tensor image writh mean and standard deviation. Given mean: (mean[1],...,mean[n]) and std: (std[1],..,std[n]) for n channels, this transform will normalize each channel of the input torch.*Tensor i.e., output[channel] = (input[channel] - mean[channel]) / std[channel]\n",
        "\n",
        "trainset = torchvision.datasets.MNIST(root='./data',train=True, download=True, transform=transform)\n",
        "trainloader = torch.utils.data.DataLoader(trainset, batch_size=4, shuffle=True, num_workers=2)"
      ],
      "execution_count": null,
      "outputs": [
        {
          "output_type": "stream",
          "name": "stdout",
          "text": [
            "Downloading http://yann.lecun.com/exdb/mnist/train-images-idx3-ubyte.gz\n",
            "Downloading http://yann.lecun.com/exdb/mnist/train-images-idx3-ubyte.gz to ./data/MNIST/raw/train-images-idx3-ubyte.gz\n"
          ]
        },
        {
          "output_type": "display_data",
          "data": {
            "application/vnd.jupyter.widget-view+json": {
              "model_id": "a053d5d1f8004a61a0ed450733806914",
              "version_minor": 0,
              "version_major": 2
            },
            "text/plain": [
              "  0%|          | 0/9912422 [00:00<?, ?it/s]"
            ]
          },
          "metadata": {}
        },
        {
          "output_type": "stream",
          "name": "stdout",
          "text": [
            "Extracting ./data/MNIST/raw/train-images-idx3-ubyte.gz to ./data/MNIST/raw\n",
            "\n",
            "Downloading http://yann.lecun.com/exdb/mnist/train-labels-idx1-ubyte.gz\n",
            "Downloading http://yann.lecun.com/exdb/mnist/train-labels-idx1-ubyte.gz to ./data/MNIST/raw/train-labels-idx1-ubyte.gz\n"
          ]
        },
        {
          "output_type": "display_data",
          "data": {
            "application/vnd.jupyter.widget-view+json": {
              "model_id": "53545690ee514cd7a1870f2cf95da80f",
              "version_minor": 0,
              "version_major": 2
            },
            "text/plain": [
              "  0%|          | 0/28881 [00:00<?, ?it/s]"
            ]
          },
          "metadata": {}
        },
        {
          "output_type": "stream",
          "name": "stdout",
          "text": [
            "Extracting ./data/MNIST/raw/train-labels-idx1-ubyte.gz to ./data/MNIST/raw\n",
            "\n",
            "Downloading http://yann.lecun.com/exdb/mnist/t10k-images-idx3-ubyte.gz\n",
            "Downloading http://yann.lecun.com/exdb/mnist/t10k-images-idx3-ubyte.gz to ./data/MNIST/raw/t10k-images-idx3-ubyte.gz\n"
          ]
        },
        {
          "output_type": "display_data",
          "data": {
            "application/vnd.jupyter.widget-view+json": {
              "model_id": "fad8957d206c4316a675c94a999661ad",
              "version_minor": 0,
              "version_major": 2
            },
            "text/plain": [
              "  0%|          | 0/1648877 [00:00<?, ?it/s]"
            ]
          },
          "metadata": {}
        },
        {
          "output_type": "stream",
          "name": "stdout",
          "text": [
            "Extracting ./data/MNIST/raw/t10k-images-idx3-ubyte.gz to ./data/MNIST/raw\n",
            "\n",
            "Downloading http://yann.lecun.com/exdb/mnist/t10k-labels-idx1-ubyte.gz\n",
            "Downloading http://yann.lecun.com/exdb/mnist/t10k-labels-idx1-ubyte.gz to ./data/MNIST/raw/t10k-labels-idx1-ubyte.gz\n"
          ]
        },
        {
          "output_type": "display_data",
          "data": {
            "application/vnd.jupyter.widget-view+json": {
              "model_id": "686d531710c443c69104e6de5c882d8a",
              "version_minor": 0,
              "version_major": 2
            },
            "text/plain": [
              "  0%|          | 0/4542 [00:00<?, ?it/s]"
            ]
          },
          "metadata": {}
        },
        {
          "output_type": "stream",
          "name": "stdout",
          "text": [
            "Extracting ./data/MNIST/raw/t10k-labels-idx1-ubyte.gz to ./data/MNIST/raw\n",
            "\n"
          ]
        }
      ]
    },
    {
      "cell_type": "markdown",
      "metadata": {
        "id": "aSoYuJ6D2XJd"
      },
      "source": [
        "# 3. Process input through the network\n",
        "\n",
        "It was defined in the forward method\n",
        "\n"
      ]
    },
    {
      "cell_type": "markdown",
      "metadata": {
        "id": "dx-WIipV29Wd"
      },
      "source": [
        "# 4. Compute the loss\n",
        "\n",
        "**Loss function**\n",
        "\n",
        "• A loss function takes the (output, target) pair of inputs\n",
        "\n",
        "• Computes a value that estimates how far away the output is from the\n",
        "target.\n",
        "\n",
        "• There are several different loss functions under the nnpackage.\n",
        "\n",
        "• A simple loss can be **nn.MSELoss** : It computes the mean-squared error between the input and the target.\n",
        "\n",
        "\n",
        "\n",
        "```\n",
        "output = net(input)\n",
        "target = torch.randn(10)  \n",
        "\n",
        "# a dummy target, for example\n",
        "target = target.view(1, -1)  \n",
        "\n",
        "# make it the same shape as output\n",
        "criterion = nn.MSELoss()\n",
        "\n",
        "loss = criterion(output, target)\n",
        "```\n",
        "\n"
      ]
    },
    {
      "cell_type": "markdown",
      "metadata": {
        "id": "j5x3HaPf4HN1"
      },
      "source": [
        "# 5. Propagate gradients back into the network’s parameters\n",
        "\n",
        "\n",
        "\n",
        "```\n",
        "output = net(input)\n",
        "\n",
        "loss = criterion(output, target)\n",
        "\n",
        "loss.backward()\n",
        "```\n",
        "\n"
      ]
    },
    {
      "cell_type": "markdown",
      "metadata": {
        "id": "HX2_Wjj64Y3Z"
      },
      "source": [
        "# 6. Update the weights of the network\n",
        "\n",
        "\n",
        "\n",
        "\n",
        "```\n",
        "import torch.optim as optim\n",
        "\n",
        "# create your optimizer\n",
        "optimizer = optim.SGD(net.parameters(), lr=0.01)\n",
        "\n",
        "# in your training loop:\n",
        "optimizer.zero_grad()   # zero the gradient buffers\n",
        "output = net(input)\n",
        "loss = criterion(output, target)\n",
        "loss.backward()\n",
        "optimizer.step()    # Does the update\n",
        "```\n",
        "\n",
        "\n"
      ]
    },
    {
      "cell_type": "markdown",
      "metadata": {
        "id": "0Is0-wTS4yUT"
      },
      "source": [
        "# Training example\n",
        "\n"
      ]
    },
    {
      "cell_type": "code",
      "metadata": {
        "colab": {
          "base_uri": "https://localhost:8080/"
        },
        "id": "p8s9tIEX45Vo",
        "outputId": "e4d796d7-a966-499c-fc35-5c468ac6dd9f"
      },
      "source": [
        "import torch.optim as optim\n",
        "net = Net()\n",
        "\n",
        "trainloader = torch.utils.data.DataLoader(trainset, batch_size=4, shuffle=True, num_workers=2)\n",
        "\n",
        "criterion = nn.CrossEntropyLoss()\n",
        "\n",
        "optimizer = optim.SGD(net.parameters(), lr=0.001, momentum=0.9)\n",
        "\n",
        "for epoch in range(2):    # loop over the dataset multiple times\n",
        "  running_loss = 0.0\n",
        "  for i, data in enumerate(trainloader, 0):     # training code for each batch\n",
        "    # get the inputs;\n",
        "    inputs, labels = data\n",
        "\n",
        "    # zero the parameter gradients\n",
        "    optimizer.zero_grad()\n",
        "\n",
        "    # forward + backward + optimize\n",
        "    outputs = net(inputs)\n",
        "    loss = criterion(outputs, labels)\n",
        "    loss.backward()\n",
        "    optimizer.step()\n",
        "\n",
        "    # print statistics\n",
        "    running_loss += loss.item()\n",
        "    if i % 2000 == 1999: # every 2000 batches\n",
        "      print('[%d, %5d] loss: %.3f' % (epoch+1,i+1,running_loss/2000.0))\n",
        "      running_loss = 0.0\n",
        "\n",
        "print('Finished Training')\n",
        "PATH = './mnist_net.pth'\n",
        "torch.save(net.state_dict(), PATH)\n"
      ],
      "execution_count": null,
      "outputs": [
        {
          "output_type": "stream",
          "name": "stdout",
          "text": [
            "[1,  2000] loss: 0.834\n",
            "[1,  4000] loss: 0.389\n",
            "[1,  6000] loss: 0.316\n",
            "[1,  8000] loss: 0.270\n",
            "[1, 10000] loss: 0.240\n",
            "[1, 12000] loss: 0.228\n",
            "[1, 14000] loss: 0.207\n",
            "[2,  2000] loss: 0.165\n",
            "[2,  4000] loss: 0.153\n",
            "[2,  6000] loss: 0.157\n",
            "[2,  8000] loss: 0.154\n",
            "[2, 10000] loss: 0.154\n",
            "[2, 12000] loss: 0.135\n",
            "[2, 14000] loss: 0.152\n",
            "Finished Training\n"
          ]
        }
      ]
    },
    {
      "cell_type": "markdown",
      "metadata": {
        "id": "KuAdDSEwDRj-"
      },
      "source": [
        "# Testing"
      ]
    },
    {
      "cell_type": "code",
      "metadata": {
        "colab": {
          "base_uri": "https://localhost:8080/",
          "height": 317
        },
        "id": "0Z4UEp66DXSF",
        "outputId": "def1bbad-d1a6-40ab-f841-2ac53efe2e69"
      },
      "source": [
        "import matplotlib.pyplot as plt\n",
        "import numpy\n",
        "\n",
        "testset = torchvision.datasets.MNIST(root='./data',train=False, download=True, transform=transform)\n",
        "testloader = torch.utils.data.DataLoader(testset, batch_size=1, shuffle=True, num_workers=2)\n",
        "\n",
        "dataiter = iter(testloader)\n",
        "images, labels = dataiter.next()\n",
        "\n",
        "net = Net()\n",
        "net.load_state_dict(torch.load(PATH))\n",
        "outputs = net(images)\n",
        "\n",
        "_, predicted = torch.max(outputs, 1)\n",
        "\n",
        "print(images.size())\n",
        "test_img = images.numpy().astype(numpy.float64)\n",
        "test_img = test_img.reshape((28,28))\n",
        "test_img = 255 * test_img\n",
        "test_img = test_img.astype(numpy.uint8)\n",
        "plt.imshow(test_img)\n",
        "\n",
        "print('Predicted label: ', str(predicted))\n",
        "print('Groundtruth label: ', str(labels))"
      ],
      "execution_count": null,
      "outputs": [
        {
          "output_type": "stream",
          "name": "stdout",
          "text": [
            "torch.Size([1, 1, 28, 28])\n",
            "Predicted label:  tensor([4])\n",
            "Groundtruth label:  tensor([4])\n"
          ]
        },
        {
          "output_type": "display_data",
          "data": {
            "image/png": "[encoded data removed]",
            "text/plain": [
              "<Figure size 432x288 with 1 Axes>"
            ]
          },
          "metadata": {
            "needs_background": "light"
          }
        }
      ]
    }
  ]
}